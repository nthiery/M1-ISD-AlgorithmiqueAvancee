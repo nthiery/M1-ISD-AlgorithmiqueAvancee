{
 "cells": [
  {
   "cell_type": "markdown",
   "metadata": {
    "collapsed": false
   },
   "source": [
    "# Le problème à résoudre\n",
    "\n",
    "Vous avez été embauché comme consultant chez *Schmurfvengo* qui vient d'obtenir de façon inespérée la gestion des vélibs à Paris. Le problème est le suivant : pour cause de soucis techniques, il faut régulièrement remplacer l'ensemble de la flotte (1300 vélos) en **une nuit**. \n",
    "\n",
    "Pour cela, vous disposez de 4 gros camions qui ont chacun la possibilité de livrer 500 vélos au cours de la nuit. Cependant, pour éviter de polluer la capitale, ces camions se contentent de livrer chacun dans une station (la plus proche de l'entrepot correspondant). Les sations correspondant aux 4 camions sont :\n",
    "\n",
    " * Pierre Ginier Clichy\n",
    " * Le Vau - Maurice Bertaux\n",
    " * Le Brix et Mesmin-Jourdan\n",
    " * Siam - La Pompe\n",
    " \n",
    "Il y a 68 stations en fonctionnement dans la capitale. Il faut donc acheminer les vélos aux autres stations. Pour cela on dispose de navettes électriques pouvant se déplacer entre les stations de vélos, sur de courtes distances. Une navette peut livrer 50 vélos au cours de la nuit. On veut livrer des vélos dans toutes les stations sans dépasser 80% de leur capacité (pour laisser quelques places vides).  Votre travail est d'effectuer une étude rapide préalable pour estimer une solution possible d'acheminement de l'ensemble des vélos (combien de navettes placer, où, etc). On considèrera que deux stations peuvent être réliées par une navette si elles sont distantes au maximum de 2500 mètres à vol d'oiseau.\n",
    "\n",
    "Exemple : la station \"Institut de France\" a une capacité de 17 vélos, on veut lui donc lui en livrer 13 : on pourra emprunter la navette qui va de \"Pierre Ginier Clichy\" à \"Hauteville - Bonne Nouvelle\" puis une seconde navette de \"Hauteville - Bonne Nouvelle\" à \"Institut de France\". (Remarque, les 13 vélos peuvent aussi venir de plusieurs navettes différentes arrivant à \"Institut de France\")"
   ]
  },
  {
   "cell_type": "markdown",
   "metadata": {
    "collapsed": false
   },
   "source": [
    "## Les données\n",
    "\n",
    "Pour résoudre ce problème, vous pouvez utiliser les données de [Open Data Paris](https://opendata.paris.fr). La table dont vous avez besoin est [Stations Velibs : emplacement des stations](https://opendata.paris.fr/explore/dataset/velib-emplacement-des-stations/). Le fichier *json* est disponible dans ce dossier, les données sont directement interprétables en python de cette façon."
   ]
  },
  {
   "cell_type": "code",
   "execution_count": 1,
   "metadata": {
    "collapsed": false
   },
   "outputs": [
   ],
   "source": [
    "import json\n",
    "data = json.load(open(\"media/velib-emplacement-des-stations.json\"))"
   ]
  },
  {
   "cell_type": "markdown",
   "metadata": {
    "collapsed": false
   },
   "source": [
    "La variable `data` est une liste dont chaque élément est un dictionnaire python contenant les informations d'une station vélib."
   ]
  },
  {
   "cell_type": "code",
   "execution_count": 2,
   "metadata": {
    "collapsed": false
   },
   "outputs": [
   ],
   "source": [
    "len(data)"
   ]
  },
  {
   "cell_type": "markdown",
   "metadata": {
    "collapsed": false
   },
   "source": [
    "Voilà par exemple, le premier élément de la liste, la station *Chernoviz - Raynouard*"
   ]
  },
  {
   "cell_type": "code",
   "execution_count": 3,
   "metadata": {
    "collapsed": false
   },
   "outputs": [
   ],
   "source": [
    "data[0]"
   ]
  },
  {
   "cell_type": "code",
   "execution_count": 4,
   "metadata": {
    "collapsed": false
   },
   "outputs": [
   ],
   "source": [
    "data[0][\"fields\"][\"capacity\"]"
   ]
  },
  {
   "cell_type": "markdown",
   "metadata": {
    "collapsed": false
   },
   "source": [
    "On vous fourni la fonction suivante, qui permet de calculer la distance en mètres entre deux points données sous forme `(latitude, longitude)`."
   ]
  },
  {
   "cell_type": "code",
   "execution_count": 5,
   "metadata": {
    "collapsed": false
   },
   "outputs": [
   ],
   "source": [
    "import math\n",
    "def toRad(angle):\n",
    "    \"\"\"\n",
    "    Converti un angle donné en degré en un angle donné en radian.\n",
    "    \n",
    "    INPUT:\n",
    "        \n",
    "        - angle, un angle en degré\n",
    "        \n",
    "    OUTPUT : la valeur en radian\n",
    "    \"\"\"\n",
    "    return angle*2*math.pi/360\n",
    "\n",
    "def distance(p1, p2):\n",
    "    \"\"\"\n",
    "    Renvoie la distance en mètres entre les points `p1` et `p2` données en coordonnées géographique\n",
    "    \n",
    "    INPUT:\n",
    "    \n",
    "        - p1, un tuple (latitude, longitude)\n",
    "        - p2, un tuple (latitude, longitude)\n",
    "        \n",
    "    OUPUT : la distance à vol d'oiseau en mètres entre p1 et p2\n",
    "    \"\"\"\n",
    "    lat1, lon1 = p1\n",
    "    lat2, lon2 = p2\n",
    "    R = 6371e3\n",
    "    phi1 = toRad(lat1)\n",
    "    phi2 = toRad(lat2)\n",
    "    dphi = toRad(lat2 - lat1)\n",
    "    dlam = toRad(lon2 - lon1)\n",
    "\n",
    "    a = math.sin(dphi/2)**2 + math.cos(phi1)*math.cos(phi2)*math.sin(dlam/2)**2\n",
    "    c = 2*math.atan2(math.sqrt(a), math.sqrt(1-a))\n",
    "    return R*c"
   ]
  },
  {
   "cell_type": "markdown",
   "metadata": {
    "collapsed": false
   },
   "source": [
    "Par exemple, la distance entre la première station de la liste *Chernoviz - Raynouard* et la seconde, *Choron - Martyrs* est légèrement inférieure à 5km."
   ]
  },
  {
   "cell_type": "code",
   "execution_count": 6,
   "metadata": {
    "collapsed": false
   },
   "outputs": [
   ],
   "source": [
    "distance((data[0][\"fields\"][\"lat\"], data[0][\"fields\"][\"lon\"]), (data[1][\"fields\"][\"lat\"], data[1][\"fields\"][\"lon\"])) "
   ]
  },
  {
   "cell_type": "markdown",
   "metadata": {
    "collapsed": false
   },
   "source": [
    "On vous mondre aussi les scripts suivants qui permettent de faire un affichage graphique avec *mathplotlib*. (Le premier affiche des points et le second des lignes)"
   ]
  },
  {
   "cell_type": "code",
   "execution_count": 7,
   "metadata": {
    "collapsed": false
   },
   "outputs": [
   ],
   "source": [
    "import matplotlib.pyplot as plt\n",
    "\n",
    "x = [d[\"fields\"][\"lon\"] for d in data]\n",
    "y = [d[\"fields\"][\"lat\"] for d in data]\n",
    "\n",
    "\n",
    "plt.scatter(x,y,s=5)\n",
    "\n",
    "plt.title('Les stations velibs dans Paris')\n",
    "plt.xlabel('longitude')\n",
    "plt.ylabel('latitude')\n",
    "plt.savefig('StationsVelib.png')\n",
    "plt.show()"
   ]
  },
  {
   "cell_type": "code",
   "execution_count": 8,
   "metadata": {
    "collapsed": false
   },
   "outputs": [
   ],
   "source": [
    "import matplotlib.pyplot as plt\n",
    "\n",
    "\n",
    "station_names = set(d['fields']['name'] for d in data)\n",
    "station_dict = {d['fields']['name']:d for d in data}\n",
    "station = station_names.pop()\n",
    "\n",
    "while len(station_names) > 0:\n",
    "    next_station = min(station_names, key = lambda n: distance((station_dict[station][\"fields\"][\"lat\"], station_dict[station][\"fields\"][\"lon\"]), (station_dict[n][\"fields\"][\"lat\"], station_dict[n][\"fields\"][\"lon\"])))\n",
    "    station_names.remove(next_station)\n",
    "    plt.plot([station_dict[station][\"fields\"][\"lon\"], station_dict[next_station][\"fields\"][\"lon\"]], [station_dict[station][\"fields\"][\"lat\"], station_dict[next_station][\"fields\"][\"lat\"]], 'k-', lw=1)\n",
    "    station = next_station\n",
    "\n",
    "plt.title('Un chemin reliant toutes les stations')\n",
    "plt.xlabel('longitude')\n",
    "plt.ylabel('latitude')\n",
    "plt.savefig('CheminsStations.png')\n",
    "plt.show()"
   ]
  },
  {
   "cell_type": "markdown",
   "metadata": {
    "collapsed": false
   },
   "source": [
    "## A vous de jouer !\n",
    "\n",
    "Vous avez maintenant tous les éléments pour résoudre le problème. Petit résumé.\n",
    "\n",
    "**Le but** : acheminer le maximum de vélos sur les 1300.\n",
    "\n",
    "**Les contraintes** :\n",
    "\n",
    " * respecter la capacité de chaque station (pas plus de 80% de remplissage)\n",
    " * respecter les contraintes de l'énoncé sur les camions de départ et les navettes.\n",
    " \n",
    "**Le résultat** : votre résultat doit être facilement utilisable. En particulier vous devez implanter les foncion `navette` et `remplissage` définie en bas de la fiche et donner les lignes de codes affichant les réponses aux questions. \n",
    "\n",
    "**Un peu de dessin ?** Donnez une illustration de votre résultat en utilisant matplotlib.\n",
    "\n",
    "**Comment faire ?** Aidez-vous des fiches intermédiaires proposées, discutez avec votre groupe, posez des questions, lisez wikiedia."
   ]
  },
  {
   "cell_type": "code",
   "execution_count": 9,
   "metadata": {
    "collapsed": false
   },
   "outputs": [
   ],
   "source": [
   ]
  },
  {
   "cell_type": "code",
   "execution_count": 10,
   "metadata": {
    "collapsed": false
   },
   "outputs": [
   ],
   "source": [
   ]
  },
  {
   "cell_type": "code",
   "execution_count": 11,
   "metadata": {
    "collapsed": false
   },
   "outputs": [
   ],
   "source": [
   ]
  },
  {
   "cell_type": "code",
   "execution_count": 17,
   "metadata": {
    "collapsed": false
   },
   "outputs": [
   ],
   "source": [
   ]
  },
  {
   "cell_type": "code",
   "execution_count": 18,
   "metadata": {
    "collapsed": false
   },
   "outputs": [
   ],
   "source": [
   ]
  },
  {
   "cell_type": "code",
   "execution_count": 19,
   "metadata": {
    "collapsed": false
   },
   "outputs": [
   ],
   "source": [
    "# F = ???\n"
   ]
  },
  {
   "cell_type": "code",
   "execution_count": 20,
   "metadata": {
    "collapsed": false
   },
   "outputs": [
   ],
   "source": [
   ]
  },
  {
   "cell_type": "code",
   "execution_count": 21,
   "metadata": {
    "collapsed": false
   },
   "outputs": [
   ],
   "source": [
    "def navette(flot, station1, station2):\n",
    "    \"\"\"\n",
    "    S'il existe une navette entre `station1` et `station2`, renvoie le nombre de vélos qui seront transportés par cette navette durant la nuit. Sinon, renvoie 0.\n",
    "    \n",
    "    INPUT:\n",
    "    \n",
    "        - flot, l'objet contenant le résultat de vos calculs\n",
    "        - station1, le nom d'une station Velib\n",
    "        - station2, le nom d'une seconde station Vélib\n",
    "    \"\"\"\n",
    "    # à compléter\n"
   ]
  },
  {
   "cell_type": "code",
   "execution_count": 23,
   "metadata": {
    "collapsed": false
   },
   "outputs": [
   ],
   "source": [
    "# par exemple...\n",
    "navette(F, \"Pierre Ginier Clichy\", \"Hauteville - Bonne Nouvelle\") # pour mes calculs 50 vélos"
   ]
  },
  {
   "cell_type": "code",
   "execution_count": 24,
   "metadata": {
    "collapsed": false
   },
   "outputs": [
   ],
   "source": [
    "# vérifons qu'on ne dépasse pas la capacité des navettes\n",
    "assert all( navette(F, d1[\"fields\"][\"name\"], d2[\"fields\"][\"name\"]) <= 50 for d1 in data for d2 in data)"
   ]
  },
  {
   "cell_type": "code",
   "execution_count": 26,
   "metadata": {
    "collapsed": false
   },
   "outputs": [
   ],
   "source": [
    "# vérifons qu'on n'a pas de navettes entre une station et elle-même\n",
    "assert all( navette(F, d[\"fields\"][\"name\"], d[\"fields\"][\"name\"]) == 0 for d in data)"
   ]
  },
  {
   "cell_type": "code",
   "execution_count": 27,
   "metadata": {
    "collapsed": false
   },
   "outputs": [
   ],
   "source": [
    "def remplissage(flot, station):\n",
    "    \"\"\"\n",
    "    Renvoie le nombre de vélos qu'on aura installé à `station` à la fin de la nuit.\n",
    "    \n",
    "    INPUT :\n",
    "    \n",
    "        - flot, l'objet contenant le résultat de vos calculs\n",
    "        - station, le nom d'une station velib\n",
    "    \"\"\"\n",
    "    # à compléter\n"
   ]
  },
  {
   "cell_type": "code",
   "execution_count": 35,
   "metadata": {
    "collapsed": false
   },
   "outputs": [
   ],
   "source": [
    "# par exemple...\n",
    "remplissage(F, \"Hauteville - Bonne Nouvelle\") # pour mes calculs 13"
   ]
  },
  {
   "cell_type": "code",
   "execution_count": 29,
   "metadata": {
    "collapsed": false
   },
   "outputs": [
   ],
   "source": [
    "# vérifons qu'on ne dépasse pas la capacité des stations\n",
    "assert all( remplissage(F, d[\"fields\"][\"name\"]) <= 0.8 * d[\"fields\"][\"capacity\"] for d in data)"
   ]
  },
  {
   "cell_type": "code",
   "execution_count": 30,
   "metadata": {
    "collapsed": false
   },
   "outputs": [
   ],
   "source": [
    "# vérifons qu'on ne distribue pas des \"demi-vélos\"\n",
    "assert all( remplissage(F, d[\"fields\"][\"name\"]) == int(remplissage(F, d[\"fields\"][\"name\"])) for d in data)"
   ]
  },
  {
   "cell_type": "markdown",
   "metadata": {
    "collapsed": false
   },
   "source": [
    "**Combien de vélos avez-vous livré ?**\n",
    "\n",
    "Répondez par une ligne de code qui affiche la réponse en se basant sur vos calculs."
   ]
  },
  {
   "cell_type": "code",
   "execution_count": 31,
   "metadata": {
    "collapsed": false
   },
   "outputs": [
   ],
   "source": [
   ]
  },
  {
   "cell_type": "markdown",
   "metadata": {
    "collapsed": false
   },
   "source": [
    "**Combien de navettes avez-vous utilisé ?**"
   ]
  },
  {
   "cell_type": "code",
   "execution_count": 34,
   "metadata": {
    "collapsed": false
   },
   "outputs": [
   ],
   "source": [
   ]
  },
  {
   "cell_type": "markdown",
   "metadata": {
    "collapsed": false
   },
   "source": [
    "## Un peu de dessin ?\n",
    "\n",
    "On voudrait se faire une idée du réseau de navette, pouvez-vous le représenter graphiquement ?"
   ]
  },
  {
   "cell_type": "code",
   "execution_count": 39,
   "metadata": {
    "collapsed": false
   },
   "outputs": [
   ],
   "source": [
   ]
  },
  {
   "cell_type": "code",
   "execution_count": 0,
   "metadata": {
    "collapsed": false
   },
   "outputs": [
   ],
   "source": [
   ]
  }
 ],
 "metadata": {
  "kernelspec": {
   "display_name": "Python 3 (Anaconda)",
   "language": "python",
   "name": "anaconda3"
  },
  "language_info": {
   "codemirror_mode": {
    "name": "ipython",
    "version": 3
   },
   "file_extension": ".py",
   "mimetype": "text/x-python",
   "name": "python",
   "nbconvert_exporter": "python",
   "pygments_lexer": "ipython3",
   "version": "3.5.4"
  }
 },
 "nbformat": 4,
 "nbformat_minor": 0
}
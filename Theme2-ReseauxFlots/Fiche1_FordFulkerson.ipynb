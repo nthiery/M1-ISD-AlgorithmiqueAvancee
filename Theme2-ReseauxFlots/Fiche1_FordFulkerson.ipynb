{
 "cells": [
  {
   "cell_type": "markdown",
   "metadata": {
    "collapsed": false
   },
   "source": [
    "# Réseaux / Flots / Algorithme de Ford Fulkerson\n",
    "\n",
    "## Réseaux\n",
    "\n",
    "### Définition\n",
    "\n",
    "On appelle *réseau* un graphe orienté, sans boucles ni arêtes multiples, dont les arêtes sont étiquetées par des nombres positifs. Par exemple, le graphe suivant est un réseau."
   ]
  },
  {
   "cell_type": "markdown",
   "metadata": {
    "collapsed": false
   },
   "source": [
    "<img src=\"media/exemple_graph.png\" />"
   ]
  },
  {
   "cell_type": "markdown",
   "metadata": {
    "collapsed": false
   },
   "source": [
    "On appelle *capacité d'une arête* l'étiquette qui lui est attachée. Par example, l'arête qui va de $5$ à $6$ a une capacité de $4$. On peut interpréter le réseau de cette façon : chaque arête est un *tuyau* reliant deux points, sa capacié est la taille du tuyau : le nombre d'éléments qui peuvent être transportés du premier point vers le second."
   ]
  },
  {
   "cell_type": "markdown",
   "metadata": {
    "collapsed": false
   },
   "source": [
    "### Implantation\n",
    "\n",
    "Un réseau s'implante d'une façon très similaire à un graphe. Les informations supplémentaires sont simplement *l'orientation des arêtes* et leur *capacité*. \n",
    "\n",
    "**Complétez la classe suivante qui représente un réseau. Vous êtes libres de stocker les données sous la forme que vous voulez cependant, on devra pouvoir créer le réseau soit avec une matrice, soit avec une liste d'éléments `(v1, v2, c)` où `v1` et `v2` sont des sommets et `c` la capacité de l'arête. Toutes les méthodes doivent correspondre à leur documentation.**\n",
    "\n",
    "Remarque : pour un réseau, on considère qu'une arête de capacité 0 est la même chose qu'une arête qui n'existe pas."
   ]
  },
  {
   "cell_type": "code",
   "execution_count": 60,
   "metadata": {
    "collapsed": false
   },
   "outputs": [
   ],
   "source": [
    "class Network:\n",
    "\n",
    "    def __init__(self, vertices = None, matrix = None, edges = None):\n",
    "        \"\"\"\n",
    "        Initialisation du réseau\n",
    "\n",
    "        INPUT :\n",
    "\n",
    "            - vertices, un itérables sur les sommets du graphes\n",
    "            - matrix, la matrice d'adjacence du réseau suivant les mêmes indices que `vertices`\n",
    "            - edges, une liste de triplets (v1, v2, c) où v1 et v2 sont des sommets et c un nombre positif\n",
    "\n",
    "        \"\"\"\n",
    "        if vertices is None:\n",
    "            vertices = []\n",
    "        \n",
    "        # création d'un dictionnaire associant son indice à chaque sommet\n",
    "        # (vous pouvez modifier si ça n'est pas utile à votre implantation)\n",
    "        self._vertices = {vertices[i]: i for i in range(len(vertices))}\n",
    "\n",
    "        # on ne peut pas donner à la fois matrix et edges\n",
    "        if matrix is not None and edges is not None:\n",
    "            raise ValueError(\"'matrix' et 'edges' ne peuvent pas être tous les deux initialisés\")\n",
    "\n",
    "        # initialisation différenciée : implantez les méthodes en question\n",
    "        if matrix is not None:\n",
    "            self._init_from_matrix(matrix)\n",
    "        elif edges is not None:\n",
    "            self._init_from_edges(edges)\n",
    "        else:\n",
    "            self._init_empty()\n",
    "\n",
    "    def _init_from_matrix(self, matrix):\n",
    "        \"\"\"\n",
    "        Initialisation à partir d'une matrice\n",
    "        \"\"\"\n",
    "        # à compléter\n",
    "\n",
    "    def _init_from_edges(self, edges):\n",
    "        \"\"\"\n",
    "        Initialisation à partir d'un dictionnaire d'arêtes\n",
    "        \"\"\"\n",
    "        # à compléter\n",
    "        \n",
    "    def _init_empty(self):\n",
    "        \"\"\"\n",
    "        Initialisation d'un réseau vide (sans arêtes)\n",
    "        \"\"\"\n",
    "        # à compléter\n",
    "        \n",
    "    def set_edge_capacity(self, v1, v2, c):\n",
    "        \"\"\"\n",
    "        Donne la capacité `c` à l'arête `(v1,v2)`\n",
    "        \n",
    "        INPUT:\n",
    "        \n",
    "            - v1, un sommet du réseau\n",
    "            - v2, un sommet du réseau\n",
    "            - c la capacité de l'arête (v1,v2)\n",
    "        \"\"\"\n",
    "        # à compléter\n",
    "        \n",
    "    def add_vertex(self, v):\n",
    "        \"\"\"\n",
    "        Ajoute le sommet `v` au réseau\n",
    "        \"\"\"\n",
    "        # à compléter\n",
    "        \n",
    "    def vertices(self):\n",
    "        \"\"\"\n",
    "        Renvoie la liste des sommets du graphe\n",
    "        \"\"\"\n",
    "        # à compléter\n",
    "        \n",
    "    def has_vertex(self, v1):\n",
    "        \"\"\"\n",
    "        Renvoie vrai si v1 est un sommet du réseau\n",
    "        \n",
    "        INPUT:\n",
    "        \n",
    "            - v1, un sommet\n",
    "        \"\"\"\n",
    "        # à compléter\n",
    "        \n",
    "    def edges(self):\n",
    "        \"\"\"\n",
    "        Renvoie une liste de triplets `(v1,v2,c)` correspondant aux arêtes du réseau avec leur capacité. \n",
    "        \"\"\"\n",
    "        # à compléter\n",
    "        \n",
    "    def capacity(self, v1, v2):\n",
    "        \"\"\"\n",
    "        Renvoie la capacité de l'arête (v1,v2) (si l'arête n'existe pas, la capacité est 0)\n",
    "        \n",
    "        INPUT:\n",
    "        \n",
    "            - v1, un sommet du réseau\n",
    "            - v2, un sommet du réseau\n",
    "        \"\"\"\n",
    "        # à compléter\n"
   ]
  },
  {
   "cell_type": "code",
   "execution_count": 61,
   "metadata": {
    "collapsed": false
   },
   "outputs": [
   ],
   "source": [
    "# création d'un réseau vide\n",
    "Network()"
   ]
  },
  {
   "cell_type": "code",
   "execution_count": 62,
   "metadata": {
    "collapsed": false
   },
   "outputs": [
   ],
   "source": [
    "# création d'un réseau avec une unique arrête\n",
    "Network([\"a\",\"b\"], edges = [(\"a\",\"b\",3)])"
   ]
  },
  {
   "cell_type": "code",
   "execution_count": 63,
   "metadata": {
    "collapsed": false
   },
   "outputs": [
   ],
   "source": [
    "Network([\"a\",\"b\"], matrix = [[0,3],[0,0]])"
   ]
  },
  {
   "cell_type": "code",
   "execution_count": 64,
   "metadata": {
    "collapsed": false
   },
   "outputs": [
   ],
   "source": [
    "# Ajout de sommets et d'arêtes\n",
    "n = Network()\n",
    "n.add_vertex(\"a\")\n",
    "n"
   ]
  },
  {
   "cell_type": "code",
   "execution_count": 65,
   "metadata": {
    "collapsed": false
   },
   "outputs": [
   ],
   "source": [
    "n.add_vertex(\"b\")\n",
    "n"
   ]
  },
  {
   "cell_type": "code",
   "execution_count": 66,
   "metadata": {
    "collapsed": false
   },
   "outputs": [
   ],
   "source": [
    "n.set_edge_capacity(\"a\", \"b\", 3)\n",
    "n"
   ]
  },
  {
   "cell_type": "code",
   "execution_count": 67,
   "metadata": {
    "collapsed": false
   },
   "outputs": [
   ],
   "source": [
    "# Création du réseau donné en exemple\n",
    "n1 = Network(range(7), edges = [(0,1,1), (0,2,2), (0,3,1), (1,4,3), (2,1,1), (2,0,1), (2,4,1), (3,5,2), (4,6,5), (5,2,1), (5,6,4), (6,3,3)])\n",
    "n1"
   ]
  },
  {
   "cell_type": "code",
   "execution_count": 68,
   "metadata": {
    "collapsed": false
   },
   "outputs": [
   ],
   "source": [
    "m = [\n",
    "    [0,1,2,1,0,0,0],\n",
    "    [0,0,0,0,3,0,0],\n",
    "    [1,1,0,0,1,0,0],\n",
    "    [0,0,0,0,0,2,0],\n",
    "    [0,0,0,0,0,0,5],\n",
    "    [0,0,1,0,0,0,4],\n",
    "    [0,0,0,3,0,0,0]\n",
    "]\n",
    "n2 = Network(range(7), matrix = m)\n",
    "n2"
   ]
  },
  {
   "cell_type": "code",
   "execution_count": 69,
   "metadata": {
    "collapsed": false
   },
   "outputs": [
   ],
   "source": [
    "# quelques tests\n",
    "assert n1 == n2\n",
    "assert n1.capacity(3,5) == 2\n",
    "assert n1.has_vertex(4)\n",
    "assert not n1.has_vertex(7)\n",
    "assert not n1.has_vertex(\"a\")"
   ]
  },
  {
   "cell_type": "code",
   "execution_count": 70,
   "metadata": {
    "collapsed": false
   },
   "outputs": [
   ],
   "source": [
    "# voisins\n",
    "n1.neighbors_in(2) # 0 et 5"
   ]
  },
  {
   "cell_type": "code",
   "execution_count": 72,
   "metadata": {
    "collapsed": false
   },
   "outputs": [
   ],
   "source": [
    "n1.neighbors_out(2) # 0, 1 et 4"
   ]
  },
  {
   "cell_type": "code",
   "execution_count": 73,
   "metadata": {
    "collapsed": false
   },
   "outputs": [
   ],
   "source": [
    "assert set(n1.neighbors_in(3)) == {0,6}\n",
    "assert n1.neighbors_out(3) == [5]"
   ]
  },
  {
   "cell_type": "markdown",
   "metadata": {
    "collapsed": false
   },
   "source": [
    "## Flots\n",
    "\n",
    "### Définition\n",
    "\n",
    "Un *flot* sur un réseau $r$ entre deux sommets $s$ et $t$ est une fonction $f$ qui associe un nombre à chaque arête de $r$ tel que:\n",
    "\n",
    " * $f(v1,v2)$ est toujours inférieur ou égal à capacité de de l'arête $(v1,v2)$ dans $r$;\n",
    " * pour tout sommet $a$ différent de $s$ et $t$, la somme des flots entrant en $a$ est égale à la somme des flots sortant de $a$.\n",
    " \n",
    "Pour reprendre l'analogie précédente : si on imagine que le réseau est un ensemble de tuyaux de différentes tailles, le flot est une façon de faire \"couler\" des éléments entrant en $s$ vers le sommet $t$. En chaque point, le nombre d'éléments qui arrivent est égal au nombre d'éléments qui sort.\n",
    "\n",
    "Voilà par exemple un flot sur le réseau donné en exemple précédemment (avec $s = 0$ et $t = 6$).\n",
    "\n",
    "<img src=\"media/exemple_flot.png\" />"
   ]
  },
  {
   "cell_type": "markdown",
   "metadata": {
    "collapsed": false
   },
   "source": [
    "Vous pouvez vérifier que le nombre écrit en rouge est toujours inférieur ou égal à la capacité de l'arête et que pour chaque point en dehors de 0 et 6, les flots entrants sont égaux aux flots sortant. Par exemple, sur le sommet $2$, on a en flot entrant $2+1$ et en flot sortant $1+1+1$.\n",
    "\n",
    "Le sommet de départ est appelé la *source* et le sommet d'arrivée le *puit* ou la *cible*. Le flux net entrant sur la source est égal au flux net sortant de la cible, c'est ce qu'on appelle la *valeur* du flot. Dans l'exemple, on a un flot de valeur $0+2+1-1 = 2$ (flux entrant sur la source) qui est bien égal à $1+3-2 = 2$ (flux sortant de la cible)."
   ]
  },
  {
   "cell_type": "markdown",
   "metadata": {
    "collapsed": false
   },
   "source": [
    "### Implantation\n",
    "\n",
    "En terme d'implantation, un flot est en fait un double réseau : le réseau de départ $r$ et un second réseau sur le même ensemble de sommets $f$ qui vérifie des propriétés particulières. On vous propose la classe suivante pertiellement implantée.\n",
    "\n",
    "**Complétez les méthodes `flow_in`, `flow_out`, `check_capacity` et `check_in_out`**. (Les autres méthodes seront implantées plus tard).\n",
    "\n",
    "**Vérifiez les exemples et les tests donnés**."
   ]
  },
  {
   "cell_type": "code",
   "execution_count": 116,
   "metadata": {
    "collapsed": false
   },
   "outputs": [
   ],
   "source": [
    "class Flow:\n",
    "    \n",
    "    def __init__(self, network, s, t, flow = None, check = True):\n",
    "        \"\"\"\n",
    "        Initialisation à partir d'un réseau et d'un second réseau représentant le flot. Si le paramètre `flow` n'est pas initilisé, on crée un flot nul.\n",
    "        \n",
    "        INPUT:\n",
    "        \n",
    "            - network, un reseau Network\n",
    "            - s, le sommet source\n",
    "            - t, le sommet cible\n",
    "            - flow (optionnel), un reseau Network\n",
    "            - check (default = True), si True, un test de cohérence entre le flot et le réseau est lancé.\n",
    "        \"\"\"\n",
    "        self._network = network\n",
    "        self._s = s\n",
    "        self._t = t\n",
    "        if flow is None:\n",
    "            self._flow = Network(network.vertices())\n",
    "        else:\n",
    "            self._flow = flow\n",
    "            if check:\n",
    "                assert flow.vertices() == network.vertices()\n",
    "                assert self.check_capacity()\n",
    "                assert self.check_in_out()\n",
    "    \n",
    "    def network(self):\n",
    "        \"\"\"\n",
    "        Renvoie le réseau sur lequel on construit le flot\n",
    "        \"\"\"\n",
    "        return self._network\n",
    "    \n",
    "    def source(self):\n",
    "        \"\"\"\n",
    "        Renvoie la source du flot\n",
    "        \"\"\"\n",
    "        return self._s\n",
    "    \n",
    "    def target(self):\n",
    "        \"\"\"\n",
    "        Renvoie la cible du flot\n",
    "        \"\"\"\n",
    "        return self._t\n",
    "    \n",
    "        \n",
    "    def flows(self):\n",
    "        \"\"\"\n",
    "        Renvoie une liste de triplets `(v1,v2,c)` correspondant aux arêtes du flot avec leur valeur. \n",
    "        \"\"\"\n",
    "        return self._flow.edges()\n",
    "    \n",
    "\n",
    "    def flow(self, v1, v2):\n",
    "        \"\"\"\n",
    "        Renvoie le flot entre v1 et v2\n",
    "        \n",
    "        INPUT:\n",
    "        \n",
    "            - v1, un sommet du réseau\n",
    "            - v2, un sommet du réseau\n",
    "        \"\"\"\n",
    "        return self._flow.capacity(v1,v2)\n",
    "    \n",
    "    def set_flow(self, v1, v2, f):\n",
    "        \"\"\"\n",
    "        Met la valeur du flot à `f` sur l'arête `(v1,v2)`\n",
    "        \n",
    "        INPUT :\n",
    "        \n",
    "            - v1, un sommet du réseau\n",
    "            - v2, un sommet du réseau\n",
    "            - f un nombre supérieur ou égal à 0\n",
    "        \"\"\"\n",
    "        self._flow.set_edge_capacity(v1,v2,f)\n",
    "        \n",
    "    def add_flow(self, v1, v2, f):\n",
    "        \"\"\"\n",
    "        Modifie la valeur du flot sur `(v1,v2)` de `f`\n",
    "        \n",
    "        INPUT :\n",
    "        \n",
    "            - v1, un sommet du réseau\n",
    "            - v2, un sommet du réseau\n",
    "            - f un nombre \n",
    "        \"\"\"\n",
    "        self._flow.set_edge_capacity(v1,v2,f + self.flow(v1,v2))\n",
    "    \n",
    "    def __repr__(self):\n",
    "        \"\"\"\n",
    "        Renvoie une chaine de caractère représentant le flot\n",
    "        \"\"\"\n",
    "        return \"Flot sur le \" + str(self._network) + \", flot : \" + str(self._flow.edges())\n",
    "    \n",
    "    def __eq__(self, n2):\n",
    "        \"\"\"\n",
    "        Renvoie vrai si n2 repésente le même flot que n1\n",
    "        \n",
    "        INPUT :\n",
    "        \n",
    "            - n2, un objet\n",
    "        \"\"\"\n",
    "        if not isinstance(n2, Flow):\n",
    "            return False\n",
    "        return n2.network() == self.network() and n2._flow == self._flow\n",
    "    \n",
    "    def flow_in(self, v):\n",
    "        \"\"\"\n",
    "        Renvoie la somme des flots entrant sur le sommet v\n",
    "        \"\"\"\n",
    "        # à compléter\n",
    "        \n",
    "    def flow_out(self, v):\n",
    "        \"\"\"\n",
    "        Renvoie la somme des flots sortant du sommet v\n",
    "        \"\"\"\n",
    "        # à compléter\n",
    "        \n",
    "    def value(self):\n",
    "        \"\"\"\n",
    "        Renvoie la valeur du flot (flux net entrant sur la source, ou flux net sortant de la cible)\n",
    "        \"\"\"\n",
    "        # à compléter\n",
    "    \n",
    "    def check_capacity(self):\n",
    "        \"\"\"\n",
    "        Renvoie vrai si la valeur du flot est bien inférieure ou égale à la capcité du réseau sur chacune des arêtes\n",
    "        \"\"\"\n",
    "        # à compléter\n",
    "        \n",
    "    def check_in_out(self):\n",
    "        \"\"\"\n",
    "        Renvoie vrai si la somme des flots entrant est égales à la somme des flots sortant sur chacun des sommets en dehors de la source et la cible\n",
    "        \"\"\"\n",
    "        # à compléter\n",
    "        \n",
    "    ### Ford-Fulkerson ###\n",
    "    \n",
    "    def find_augmenting_path(self):\n",
    "        \"\"\"\n",
    "        Cherche une chaine augmentante sur le flot :\n",
    "        \n",
    "            * si une chaine est trouvée, la méthode renvoie la chaine sous la forme d'une liste d'élément \n",
    "            `(v1,v2,p)` où `(v1,v2)` est l'arête de la chaine et `p` son potentiel avec le bon signe \n",
    "            (positif pour une arête dans le bon sens, négatif sinon)\n",
    "            \n",
    "            * si aucune chaîne n'est trouvée, la méthode renvoie None\n",
    "        \"\"\"\n",
    "        # à compléter\n",
    "        \n",
    "    def increase_augmenting_path(self, path):\n",
    "        \"\"\"\n",
    "        Modifie le flot en fonction de la chaine augmentante `path`\n",
    "        \n",
    "        INPUT:\n",
    "        \n",
    "            - path, une liste de triplet de la forme `(v1,v2,p)` où `(v1,v2)` est une arête du réseau et p est son potentiel d'augmentation (positif ou négatif)\n",
    "            \n",
    "        La méthode calcule la valeur minimale des valeurs absolues de p et modifie le flot en conséquence.\n",
    "        \"\"\"\n",
    "        # à compléter\n"
   ]
  },
  {
   "cell_type": "code",
   "execution_count": 102,
   "metadata": {
    "collapsed": false
   },
   "outputs": [
   ],
   "source": [
    "N = Network(range(7), edges = [(0,1,1), (0,2,2), (0,3,1), (1,4,3), (2,1,1), (2,0,1), (2,4,1), (3,5,2), (4,6,5), (5,2,1), (5,6,4), (6,3,3)])\n",
    "F = Flow(N,0,6)\n",
    "assert F.check_capacity()\n",
    "assert F.check_in_out()\n",
    "F"
   ]
  },
  {
   "cell_type": "code",
   "execution_count": 103,
   "metadata": {
    "collapsed": false
   },
   "outputs": [
   ],
   "source": [
    "F.set_flow(0,2,1)\n",
    "F"
   ]
  },
  {
   "cell_type": "code",
   "execution_count": 104,
   "metadata": {
    "collapsed": false
   },
   "outputs": [
   ],
   "source": [
    "assert not F.check_in_out()"
   ]
  },
  {
   "cell_type": "code",
   "execution_count": 105,
   "metadata": {
    "collapsed": false
   },
   "outputs": [
   ],
   "source": [
    "F.add_flow(0,2,3)\n",
    "F"
   ]
  },
  {
   "cell_type": "code",
   "execution_count": 106,
   "metadata": {
    "collapsed": false
   },
   "outputs": [
   ],
   "source": [
    "assert not F.check_capacity()"
   ]
  },
  {
   "cell_type": "code",
   "execution_count": 110,
   "metadata": {
    "collapsed": false
   },
   "outputs": [
   ],
   "source": [
    "N = Network(range(7), edges = [(0,1,1), (0,2,2), (0,3,1), (1,4,3), (2,1,1), (2,0,1), (2,4,1), (3,5,2), (4,6,5), (5,2,1), (5,6,4), (6,3,3)])\n",
    "N_f = Network(range(7), edges = [(0,1,1), (0,2,2), (1,4,2), (2,1,1), (2,0,1), (2,4,1), (3,5,2), (4,6,3), (5,2,1), (5,6,1), (6,3,2)])\n",
    "F = Flow(N,0,6, N_f)\n",
    "F"
   ]
  },
  {
   "cell_type": "code",
   "execution_count": 111,
   "metadata": {
    "collapsed": false
   },
   "outputs": [
   ],
   "source": [
    "assert F.check_capacity()\n",
    "assert F.check_in_out()\n",
    "assert F.value() == 2"
   ]
  },
  {
   "cell_type": "markdown",
   "metadata": {
    "collapsed": false
   },
   "source": [
    "## Algorithme De Ford Fulkerson\n",
    "\n",
    "L'algorithme de Ford Fulkerson sert à calculer *le flot de valeur maximale* (ou simplement *flot maximal*) sur un réseau entre deux points donnés. C'est-à-dire le nombre maximal d'éléments qu'on peut faire \"couler\" de la source vers la cible.\n",
    "\n",
    "Le principe de base est simple : on part du flot nul (toutes les valeurs sont à 0) et on augmente le flot jusqu'à ce que ça ne soit plus possible. La question est de savoir comment \"augmenter\" un flot tout en conservant ses proriétés.\n",
    "\n",
    "On propose ici une stratégie qu'on va implanter sur notre classe `Flow`.\n",
    "\n",
    "### L'algorithme de la chaîne augmentante \n",
    "\n",
    "Une *chaîne augmentante* est un chemin non-orienté de $s$ à $t$ (on peut prendre les arêtes dans n'importe quel sens) tel que :\n",
    "\n",
    " * sur les arêtes prises dans \"le bon sens\", la valeur du flot est strictement inférieure à la capacité de l'arête\n",
    " * sur les arêtes prises dans \"le mauvais sens\", la valeur du flot est strictement supérieure à 0\n",
    " \n",
    "Par exemple, $0 - 3 -6$ est une chaîne augmentante sur l'exemple de flot donné plus haut : l'arête $(0,3)$ prise dans le bon sens n'a pas atteint sa capacité maximale et l'arête $(3,6)$ prise dans le mauvais sens a un flot supérieur stricte à 0.\n",
    "\n",
    "On regarde ensuite *le potentiel d'augmentation* $p$ pour chaque arête de la chaîne : \n",
    "\n",
    " * pour une arête prise dans le bon sens, $p$ est égal à la différence entre la capacité de l'arête et la valeur du flot.\n",
    " * pour une arête prise dans le mauvais sens, $p$ est égal à la valeur du flot (la différence entre la valeur du flot et 0).\n",
    " \n",
    "On détermine $pmin$ **le potentiel minimum sur la chaîne** puis, on **augmente** le flot des arêtes dans le bon sens et on **diminue** celui des arêtes dans le mauvais sens de la valeur $pmin$.\n",
    "\n",
    "Par exemple, pour notre chaîne $0 - 3 - 6$, le potentiel de $(0,3)$ est 1 et le potentiel sur $(3,6)$ est 2. Dans ce cas, on a $pmin = 1$ et on peut : augmenter le flot de $(0,3)$ pour le faire passer à 1 et diminuer le flot de $(3,6)$ pour le faire passer à 1. Le résultat est toujours un flot.\n",
    "\n",
    "**Implantez les méthodes `fing_augmenting_path` et `increase_augmenting_path` de la classe `Flow`.**\n",
    "\n",
    "La méthode `find_augmenting_path` cherche une chaîne augmentante par un parcours en largeur du graphe en considérant que les arêtes qui vérifient la condition.\n",
    "\n",
    "La méthode `increase_augmenting_path` prend une chaîne augmentante en paramètre et effectue la modification du flot en conséquence.\n",
    "\n"
   ]
  },
  {
   "cell_type": "code",
   "execution_count": 117,
   "metadata": {
    "collapsed": false
   },
   "outputs": [
   ],
   "source": [
    "# vérification de find_augmenting_path\n",
    "N = Network(range(7), edges = [(0,1,1), (0,2,2), (0,3,1), (1,4,3), (2,1,1), (2,0,1), (2,4,1), (3,5,2), (4,6,5), (5,2,1), (5,6,4), (6,3,3)])\n",
    "N_f = Network(range(7), edges = [(0,1,1), (0,2,2), (1,4,2), (2,1,1), (2,0,1), (2,4,1), (3,5,2), (4,6,3), (5,2,1), (5,6,1), (6,3,2)])\n",
    "F = Flow(N,0,6, N_f)\n",
    "assert F.find_augmenting_path() == [(0, 3, 1), (6, 3, -2)]"
   ]
  },
  {
   "cell_type": "code",
   "execution_count": 124,
   "metadata": {
    "collapsed": false
   },
   "outputs": [
   ],
   "source": [
    "# vérifiation de increase_augmenting_path\n",
    "N = Network(range(7), edges = [(0,1,1), (0,2,2), (0,3,1), (1,4,3), (2,1,1), (2,0,1), (2,4,1), (3,5,2), (4,6,5), (5,2,1), (5,6,4), (6,3,3)])\n",
    "N_f = Network(range(7), edges = [(0,1,1), (0,2,2), (1,4,2), (2,1,1), (2,0,1), (2,4,1), (3,5,2), (4,6,3), (5,2,1), (5,6,1), (6,3,2)])\n",
    "F = Flow(N,0,6, N_f)\n",
    "F.increase_augmenting_path([(0, 3, 1), (6, 3, -2)])\n",
    "assert F.value() == 3\n",
    "assert F.check_in_out()\n",
    "assert F.check_capacity()"
   ]
  },
  {
   "cell_type": "markdown",
   "metadata": {
    "collapsed": false
   },
   "source": [
    "### Flot maximal\n",
    "\n",
    "**Implantez la fonction suivante qui renvoie le flot maximal d'un réseau donné** : l'algortihme part du réseau null, cherche une chaîne augmentante, l'augmente puis recommence jusqu'à ce qu'il n'y ai plus de chaine augmentante."
   ]
  },
  {
   "cell_type": "code",
   "execution_count": 142,
   "metadata": {
    "collapsed": false
   },
   "outputs": [
   ],
   "source": [
    "def maximal_flow(network, s, t):\n",
    "    \"\"\"\n",
    "    Renvoie le flot maximal sur le réseau `network` entre la source `s` et la cible `t`.\n",
    "    \n",
    "    INPUT :\n",
    "    \n",
    "        - network, un réseau de type Network\n",
    "        - s, le sommet source\n",
    "        - t, le sommet cible\n",
    "    \n",
    "    OUTPUT : un objet Flow de valeur maximale sur le réseau.\n",
    "    \"\"\"\n",
    "    # écrire le code\n"
   ]
  },
  {
   "cell_type": "code",
   "execution_count": 127,
   "metadata": {
    "collapsed": false
   },
   "outputs": [
   ],
   "source": [
    "N = Network(range(7), edges = [(0,1,1), (0,2,2), (0,3,1), (1,4,3), (2,1,1), (2,0,1), (2,4,1), (3,5,2), (4,6,5), (5,2,1), (5,6,4), (6,3,3)])\n",
    "maximal_flow(N, 0, 6)"
   ]
  },
  {
   "cell_type": "code",
   "execution_count": 129,
   "metadata": {
    "collapsed": false
   },
   "outputs": [
   ],
   "source": [
    "N = Network(range(7), edges = [(0,1,1), (0,2,2), (0,3,1), (1,4,3), (2,1,1), (2,0,1), (2,4,1), (3,5,2), (4,6,5), (5,2,1), (5,6,4), (6,3,3)])\n",
    "F = maximal_flow(N,0,6)\n",
    "assert F.value() == 4\n",
    "assert F.check_capacity()\n",
    "assert F.check_in_out()"
   ]
  },
  {
   "cell_type": "code",
   "execution_count": 144,
   "metadata": {
    "collapsed": false
   },
   "outputs": [
   ],
   "source": [
    "N = Network(range(6), edges = [(0,1,10), (0,3,4), (1,2,13), (1,4,4), (2,5,10), (3,2,4), (4,5,4)])\n",
    "F = maximal_flow(N,0,5)\n",
    "assert F.value() == 14\n",
    "assert F.check_capacity()\n",
    "assert F.check_in_out()"
   ]
  },
  {
   "cell_type": "code",
   "execution_count": 0,
   "metadata": {
    "collapsed": false
   },
   "outputs": [
   ],
   "source": [
   ]
  }
 ],
 "metadata": {
  "kernelspec": {
   "display_name": "Python 3 (Anaconda)",
   "language": "python",
   "name": "anaconda3"
  },
  "language_info": {
   "codemirror_mode": {
    "name": "ipython",
    "version": 3
   },
   "file_extension": ".py",
   "mimetype": "text/x-python",
   "name": "python",
   "nbconvert_exporter": "python",
   "pygments_lexer": "ipython3",
   "version": "3.5.4"
  }
 },
 "nbformat": 4,
 "nbformat_minor": 0
}
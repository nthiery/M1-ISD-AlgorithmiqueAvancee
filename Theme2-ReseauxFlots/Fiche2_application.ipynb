{
 "cells": [
  {
   "cell_type": "markdown",
   "metadata": {
    "collapsed": false
   },
   "source": [
    "# Encore des livraisons\n",
    "\n",
    "3 usines données produisent des ours en peluche : \n",
    "\n",
    " * $A_1$ en produit 300 par semaines\n",
    " * $A_2$ en produit 500\n",
    " * $A_3$ en produit 100\n",
    " \n",
    "5 grands magasins font une commande pour la semaine prochaine :\n",
    "\n",
    " * $B_1$ commande 100 ours\n",
    " * $B_2$ commande 50\n",
    " * $B_3$ commande 80\n",
    " * $B_4$ commande 300\n",
    " * $B_5$ commande 200\n",
    " \n",
    "La logistiques fait que chaque usine ne peut livrer que dans un certain sous-ensemble de magasins :\n",
    "\n",
    " * $A_1$ peut livrer $B_1$ et $B_3$\n",
    " * $A_2$ peut livrer $B_2$ et $B_4$\n",
    " * $A_3$ peut livrer $B_3$, $B_4$, et $B_5$.\n",
    " \n",
    "Utiliser l'algorithme de Ford-Fulkerson pour déterminer si l'entreprise d'ours en peluche peut assurer sa commande.\n"
   ]
  },
  {
   "cell_type": "code",
   "execution_count": 1,
   "metadata": {
    "collapsed": false
   },
   "outputs": [
   ],
   "source": [
    "# copier ici la classe Network\n"
   ]
  },
  {
   "cell_type": "code",
   "execution_count": 2,
   "metadata": {
    "collapsed": false
   },
   "outputs": [
   ],
   "source": [
    "# copier ici la classe Flow\n"
   ]
  },
  {
   "cell_type": "code",
   "execution_count": 3,
   "metadata": {
    "collapsed": false
   },
   "outputs": [
   ],
   "source": [
    "# copier ici la fonction maximal_flow\n"
   ]
  },
  {
   "cell_type": "code",
   "execution_count": 8,
   "metadata": {
    "collapsed": false
   },
   "outputs": [
   ],
   "source": [
    "# votre solution\n"
   ]
  },
  {
   "cell_type": "code",
   "execution_count": 0,
   "metadata": {
    "collapsed": false
   },
   "outputs": [
   ],
   "source": [
   ]
  }
 ],
 "metadata": {
  "kernelspec": {
   "display_name": "Python 3 (Anaconda)",
   "language": "python",
   "name": "anaconda3"
  },
  "language_info": {
   "codemirror_mode": {
    "name": "ipython",
    "version": 3
   },
   "file_extension": ".py",
   "mimetype": "text/x-python",
   "name": "python",
   "nbconvert_exporter": "python",
   "pygments_lexer": "ipython3",
   "version": "3.5.4"
  }
 },
 "nbformat": 4,
 "nbformat_minor": 0
}
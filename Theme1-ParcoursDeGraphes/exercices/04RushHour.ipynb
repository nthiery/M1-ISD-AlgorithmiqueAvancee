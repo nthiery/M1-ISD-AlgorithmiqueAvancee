{
 "cells": [
  {
   "cell_type": "markdown",
   "metadata": {},
   "source": [
    "# Rush Hour"
   ]
  },
  {
   "cell_type": "markdown",
   "metadata": {},
   "source": [
    "## Un modèle pour RushHour"
   ]
  },
  {
   "cell_type": "markdown",
   "metadata": {},
   "source": [
    "### Un exemple d'utilisation programmatique"
   ]
  },
  {
   "cell_type": "code",
   "execution_count": 1,
   "metadata": {},
   "outputs": [],
   "source": [
    "from RushHour import *"
   ]
  },
  {
   "cell_type": "code",
   "execution_count": 2,
   "metadata": {},
   "outputs": [
    {
     "data": {
      "text/plain": [
       "+------+\n",
       "|AA   O|\n",
       "|P  Q O|\n",
       "|PXXQ O \n",
       "|P  Q  |\n",
       "|B   CC|\n",
       "|B RRR |\n",
       "+------+"
      ]
     },
     "execution_count": 2,
     "metadata": {},
     "output_type": "execute_result"
    }
   ],
   "source": [
    "plateau = Plateau(['A2R00','X2R21','C2R44','R3R52','O3D05','P3D10','Q3D13','B2D40']); plateau"
   ]
  },
  {
   "cell_type": "code",
   "execution_count": 3,
   "metadata": {},
   "outputs": [
    {
     "data": {
      "text/plain": [
       "+------+\n",
       "|AA Q O|\n",
       "|P  Q O|\n",
       "|PXXQ O \n",
       "|P     |\n",
       "|B   CC|\n",
       "|B RRR |\n",
       "+------+"
      ]
     },
     "execution_count": 3,
     "metadata": {},
     "output_type": "execute_result"
    }
   ],
   "source": [
    "plateau.recule(\"Q\")"
   ]
  },
  {
   "cell_type": "code",
   "execution_count": 4,
   "metadata": {},
   "outputs": [
    {
     "data": {
      "text/plain": [
       "False"
      ]
     },
     "execution_count": 4,
     "metadata": {},
     "output_type": "execute_result"
    }
   ],
   "source": [
    "plateau.est_gagnant()"
   ]
  },
  {
   "cell_type": "markdown",
   "metadata": {},
   "source": [
    "Chargement du 40ème défi de RushHour (voir les fichiers dans <a href=\"RushHourDefis/\">RushHourDefis/</a>):"
   ]
  },
  {
   "cell_type": "code",
   "execution_count": 5,
   "metadata": {},
   "outputs": [
    {
     "data": {
      "text/plain": [
       "+------+\n",
       "|OAA B |\n",
       "|OCD BP|\n",
       "|OCDXXP \n",
       "|QQQE P|\n",
       "|  FEKK|\n",
       "|HHFII |\n",
       "+------+"
      ]
     },
     "execution_count": 5,
     "metadata": {},
     "output_type": "execute_result"
    }
   ],
   "source": [
    "Plateau(40)"
   ]
  },
  {
   "cell_type": "markdown",
   "metadata": {},
   "source": [
    "### Un exemple d'interface utilisateur minimale"
   ]
  },
  {
   "cell_type": "code",
   "execution_count": 6,
   "metadata": {},
   "outputs": [
    {
     "data": {
      "application/vnd.jupyter.widget-view+json": {
       "model_id": "fd6b1cfa476448ac9c6fa4a80ea65b49",
       "version_major": 2,
       "version_minor": 0
      },
      "text/html": [
       "<p>Failed to display Jupyter Widget of type <code>interactive</code>.</p>\n",
       "<p>\n",
       "  If you're reading this message in the Jupyter Notebook or JupyterLab Notebook, it may mean\n",
       "  that the widgets JavaScript is still loading. If this message persists, it\n",
       "  likely means that the widgets JavaScript library is either not installed or\n",
       "  not enabled. See the <a href=\"https://ipywidgets.readthedocs.io/en/stable/user_install.html\">Jupyter\n",
       "  Widgets Documentation</a> for setup instructions.\n",
       "</p>\n",
       "<p>\n",
       "  If you're reading this message in another frontend (for example, a static\n",
       "  rendering on GitHub or <a href=\"https://nbviewer.jupyter.org/\">NBViewer</a>),\n",
       "  it may mean that your frontend doesn't currently support widgets.\n",
       "</p>\n"
      ],
      "text/plain": [
       "interactive(children=(Dropdown(description='voiture', options=('A', 'X', 'C', 'R', 'O', 'P', 'Q', 'B'), value='A'), Dropdown(description='distance', options=(0, -1, 1), value=0), Button(description='Run Interact', style=ButtonStyle()), Output()), _dom_classes=('widget-interact',))"
      ]
     },
     "metadata": {},
     "output_type": "display_data"
    }
   ],
   "source": [
    "from ipywidgets import interact_manual\n",
    "from RushHour import Plateau\n",
    "plateau = Plateau(['A2R00','X2R21','C2R44','R3R52','O3D05','P3D10','Q3D13','B2D40']); plateau\n",
    "@interact_manual\n",
    "def step(voiture=plateau.voitures.keys(), distance=[0,-1,1]):\n",
    "    global plateau\n",
    "    plateau2 = plateau.avance(voiture, distance)\n",
    "    if plateau2:\n",
    "        plateau = plateau2\n",
    "    return plateau"
   ]
  },
  {
   "cell_type": "markdown",
   "metadata": {},
   "source": [
    "## Une application graphique basée sur les widgets de Jupyter"
   ]
  },
  {
   "cell_type": "code",
   "execution_count": 7,
   "metadata": {},
   "outputs": [],
   "source": [
    "from ipywidgets import Button, Dropdown, VBox, HBox, Textarea\n",
    "from bqplot import Figure, LinearScale, Lines"
   ]
  },
  {
   "cell_type": "code",
   "execution_count": 18,
   "metadata": {},
   "outputs": [
    {
     "name": "stderr",
     "output_type": "stream",
     "text": [
      "/opt/miniconda3/envs/test-widgets/lib/python3.6/site-packages/bqplot/traits.py:137: FutureWarning: Conversion of the second argument of issubdtype from `float` to `np.floating` is deprecated. In future, it will be treated as `np.float64 == np.dtype(float).type`.\n",
      "  if np.issubdtype(a.dtype, np.float):\n"
     ]
    },
    {
     "data": {
      "application/vnd.jupyter.widget-view+json": {
       "model_id": "29442d0fd3d34edb9e8b8070d12abc3b",
       "version_major": 2,
       "version_minor": 0
      },
      "text/html": [
       "<p>Failed to display Jupyter Widget of type <code>VBox</code>.</p>\n",
       "<p>\n",
       "  If you're reading this message in the Jupyter Notebook or JupyterLab Notebook, it may mean\n",
       "  that the widgets JavaScript is still loading. If this message persists, it\n",
       "  likely means that the widgets JavaScript library is either not installed or\n",
       "  not enabled. See the <a href=\"https://ipywidgets.readthedocs.io/en/stable/user_install.html\">Jupyter\n",
       "  Widgets Documentation</a> for setup instructions.\n",
       "</p>\n",
       "<p>\n",
       "  If you're reading this message in another frontend (for example, a static\n",
       "  rendering on GitHub or <a href=\"https://nbviewer.jupyter.org/\">NBViewer</a>),\n",
       "  it may mean that your frontend doesn't currently support widgets.\n",
       "</p>\n"
      ],
      "text/plain": [
       "VBox(children=(Dropdown(options=(('Niveau 1', 1), ('Niveau 3', 3), ('Niveau 7', 7), ('Niveau 8', 8), ('Niveau 11', 11), ('Niveau 15', 15), ('Niveau 21', 21), ('Niveau 38', 38), ('Niveau 40', 40)), value=1), Figure(fig_margin={'top': 60, 'bottom': 60, 'left': 60, 'right': 60}, layout=Layout(height='75ex', min_width='125px', width='75ex'), marks=[Lines(colors=['lightgreen'], fill='inside', interactions={'hover': 'tooltip'}, scales={'x': LinearScale(max=6.0, min=0.0), 'y': LinearScale(max=0.0, min=6.0)}, scales_metadata={'x': {'orientation': 'horizontal', 'dimension': 'x'}, 'y': {'orientation': 'vertical', 'dimension': 'y'}, 'color': {'dimension': 'color'}}, tooltip_style={'opacity': 0.9}, x=array([0, 0, 1, 1]), y=array([0, 1, 1, 0])), Lines(colors=['lightgreen'], fill='inside', interactions={'hover': 'tooltip'}, scales={'x': LinearScale(max=6.0, min=0.0), 'y': LinearScale(max=0.0, min=6.0)}, scales_metadata={'x': {'orientation': 'horizontal', 'dimension': 'x'}, 'y': {'orientation': 'vertical', 'dimension': 'y'}, 'color': {'dimension': 'color'}}, tooltip_style={'opacity': 0.9}, x=array([1, 1, 2, 2]), y=array([0, 1, 1, 0])), Lines(colors=['red'], fill='inside', interactions={'hover': 'tooltip'}, scales={'x': LinearScale(max=6.0, min=0.0), 'y': LinearScale(max=0.0, min=6.0)}, scales_metadata={'x': {'orientation': 'horizontal', 'dimension': 'x'}, 'y': {'orientation': 'vertical', 'dimension': 'y'}, 'color': {'dimension': 'color'}}, tooltip_style={'opacity': 0.9}, x=array([1, 1, 2, 2]), y=array([2, 3, 3, 2])), Lines(colors=['red'], fill='inside', interactions={'hover': 'tooltip'}, scales={'x': LinearScale(max=6.0, min=0.0), 'y': LinearScale(max=0.0, min=6.0)}, scales_metadata={'x': {'orientation': 'horizontal', 'dimension': 'x'}, 'y': {'orientation': 'vertical', 'dimension': 'y'}, 'color': {'dimension': 'color'}}, tooltip_style={'opacity': 0.9}, x=array([2, 2, 3, 3]), y=array([2, 3, 3, 2])), Lines(colors=['lightblue'], fill='inside', interactions={'hover': 'tooltip'}, scales={'x': LinearScale(max=6.0, min=0.0), 'y': LinearScale(max=0.0, min=6.0)}, scales_metadata={'x': {'orientation': 'horizontal', 'dimension': 'x'}, 'y': {'orientation': 'vertical', 'dimension': 'y'}, 'color': {'dimension': 'color'}}, tooltip_style={'opacity': 0.9}, x=array([4, 4, 5, 5]), y=array([4, 5, 5, 4])), Lines(colors=['lightblue'], fill='inside', interactions={'hover': 'tooltip'}, scales={'x': LinearScale(max=6.0, min=0.0), 'y': LinearScale(max=0.0, min=6.0)}, scales_metadata={'x': {'orientation': 'horizontal', 'dimension': 'x'}, 'y': {'orientation': 'vertical', 'dimension': 'y'}, 'color': {'dimension': 'color'}}, tooltip_style={'opacity': 0.9}, x=array([5, 5, 6, 6]), y=array([4, 5, 5, 4])), Lines(colors=['green'], fill='inside', interactions={'hover': 'tooltip'}, scales={'x': LinearScale(max=6.0, min=0.0), 'y': LinearScale(max=0.0, min=6.0)}, scales_metadata={'x': {'orientation': 'horizontal', 'dimension': 'x'}, 'y': {'orientation': 'vertical', 'dimension': 'y'}, 'color': {'dimension': 'color'}}, tooltip_style={'opacity': 0.9}, x=array([2, 2, 3, 3]), y=array([5, 6, 6, 5])), Lines(colors=['green'], fill='inside', interactions={'hover': 'tooltip'}, scales={'x': LinearScale(max=6.0, min=0.0), 'y': LinearScale(max=0.0, min=6.0)}, scales_metadata={'x': {'orientation': 'horizontal', 'dimension': 'x'}, 'y': {'orientation': 'vertical', 'dimension': 'y'}, 'color': {'dimension': 'color'}}, tooltip_style={'opacity': 0.9}, x=array([3, 3, 4, 4]), y=array([5, 6, 6, 5])), Lines(colors=['green'], fill='inside', interactions={'hover': 'tooltip'}, scales={'x': LinearScale(max=6.0, min=0.0), 'y': LinearScale(max=0.0, min=6.0)}, scales_metadata={'x': {'orientation': 'horizontal', 'dimension': 'x'}, 'y': {'orientation': 'vertical', 'dimension': 'y'}, 'color': {'dimension': 'color'}}, tooltip_style={'opacity': 0.9}, x=array([4, 4, 5, 5]), y=array([5, 6, 6, 5])), Lines(colors=['yellow'], fill='inside', interactions={'hover': 'tooltip'}, scales={'x': LinearScale(max=6.0, min=0.0), 'y': LinearScale(max=0.0, min=6.0)}, scales_metadata={'x': {'orientation': 'horizontal', 'dimension': 'x'}, 'y': {'orientation': 'vertical', 'dimension': 'y'}, 'color': {'dimension': 'color'}}, tooltip_style={'opacity': 0.9}, x=array([5, 5, 6, 6]), y=array([0, 1, 1, 0])), Lines(colors=['yellow'], fill='inside', interactions={'hover': 'tooltip'}, scales={'x': LinearScale(max=6.0, min=0.0), 'y': LinearScale(max=0.0, min=6.0)}, scales_metadata={'x': {'orientation': 'horizontal', 'dimension': 'x'}, 'y': {'orientation': 'vertical', 'dimension': 'y'}, 'color': {'dimension': 'color'}}, tooltip_style={'opacity': 0.9}, x=array([5, 5, 6, 6]), y=array([1, 2, 2, 1])), Lines(colors=['yellow'], fill='inside', interactions={'hover': 'tooltip'}, scales={'x': LinearScale(max=6.0, min=0.0), 'y': LinearScale(max=0.0, min=6.0)}, scales_metadata={'x': {'orientation': 'horizontal', 'dimension': 'x'}, 'y': {'orientation': 'vertical', 'dimension': 'y'}, 'color': {'dimension': 'color'}}, tooltip_style={'opacity': 0.9}, x=array([5, 5, 6, 6]), y=array([2, 3, 3, 2])), Lines(colors=['purple'], fill='inside', interactions={'hover': 'tooltip'}, scales={'x': LinearScale(max=6.0, min=0.0), 'y': LinearScale(max=0.0, min=6.0)}, scales_metadata={'x': {'orientation': 'horizontal', 'dimension': 'x'}, 'y': {'orientation': 'vertical', 'dimension': 'y'}, 'color': {'dimension': 'color'}}, tooltip_style={'opacity': 0.9}, x=array([0, 0, 1, 1]), y=array([1, 2, 2, 1])), Lines(colors=['purple'], fill='inside', interactions={'hover': 'tooltip'}, scales={'x': LinearScale(max=6.0, min=0.0), 'y': LinearScale(max=0.0, min=6.0)}, scales_metadata={'x': {'orientation': 'horizontal', 'dimension': 'x'}, 'y': {'orientation': 'vertical', 'dimension': 'y'}, 'color': {'dimension': 'color'}}, tooltip_style={'opacity': 0.9}, x=array([0, 0, 1, 1]), y=array([2, 3, 3, 2])), Lines(colors=['purple'], fill='inside', interactions={'hover': 'tooltip'}, scales={'x': LinearScale(max=6.0, min=0.0), 'y': LinearScale(max=0.0, min=6.0)}, scales_metadata={'x': {'orientation': 'horizontal', 'dimension': 'x'}, 'y': {'orientation': 'vertical', 'dimension': 'y'}, 'color': {'dimension': 'color'}}, tooltip_style={'opacity': 0.9}, x=array([0, 0, 1, 1]), y=array([3, 4, 4, 3])), Lines(colors=['blue'], fill='inside', interactions={'hover': 'tooltip'}, scales={'x': LinearScale(max=6.0, min=0.0), 'y': LinearScale(max=0.0, min=6.0)}, scales_metadata={'x': {'orientation': 'horizontal', 'dimension': 'x'}, 'y': {'orientation': 'vertical', 'dimension': 'y'}, 'color': {'dimension': 'color'}}, tooltip_style={'opacity': 0.9}, x=array([3, 3, 4, 4]), y=array([1, 2, 2, 1])), Lines(colors=['blue'], fill='inside', interactions={'hover': 'tooltip'}, scales={'x': LinearScale(max=6.0, min=0.0), 'y': LinearScale(max=0.0, min=6.0)}, scales_metadata={'x': {'orientation': 'horizontal', 'dimension': 'x'}, 'y': {'orientation': 'vertical', 'dimension': 'y'}, 'color': {'dimension': 'color'}}, tooltip_style={'opacity': 0.9}, x=array([3, 3, 4, 4]), y=array([2, 3, 3, 2])), Lines(colors=['blue'], fill='inside', interactions={'hover': 'tooltip'}, scales={'x': LinearScale(max=6.0, min=0.0), 'y': LinearScale(max=0.0, min=6.0)}, scales_metadata={'x': {'orientation': 'horizontal', 'dimension': 'x'}, 'y': {'orientation': 'vertical', 'dimension': 'y'}, 'color': {'dimension': 'color'}}, tooltip_style={'opacity': 0.9}, x=array([3, 3, 4, 4]), y=array([3, 4, 4, 3])), Lines(colors=['orange'], fill='inside', interactions={'hover': 'tooltip'}, scales={'x': LinearScale(max=6.0, min=0.0), 'y': LinearScale(max=0.0, min=6.0)}, scales_metadata={'x': {'orientation': 'horizontal', 'dimension': 'x'}, 'y': {'orientation': 'vertical', 'dimension': 'y'}, 'color': {'dimension': 'color'}}, tooltip_style={'opacity': 0.9}, x=array([0, 0, 1, 1]), y=array([4, 5, 5, 4])), Lines(colors=['orange'], fill='inside', interactions={'hover': 'tooltip'}, scales={'x': LinearScale(max=6.0, min=0.0), 'y': LinearScale(max=0.0, min=6.0)}, scales_metadata={'x': {'orientation': 'horizontal', 'dimension': 'x'}, 'y': {'orientation': 'vertical', 'dimension': 'y'}, 'color': {'dimension': 'color'}}, tooltip_style={'opacity': 0.9}, x=array([0, 0, 1, 1]), y=array([5, 6, 6, 5]))], scale_x=LinearScale(max=6.0, min=0.0), scale_y=LinearScale(max=0.0, min=6.0)), Button(description='U', style=ButtonStyle()), HBox(children=(Button(description='L', style=ButtonStyle()), Dropdown(options=('A', 'X', 'C', 'R', 'O', 'P', 'Q', 'B'), value='A'), Button(description='R', style=ButtonStyle()))), Button(description='D', style=ButtonStyle())), layout=Layout(align_items='center'))"
      ]
     },
     "metadata": {},
     "output_type": "display_data"
    }
   ],
   "source": [
    "class Application:\n",
    "    def __init__(self):\n",
    "        self.niveau  = Dropdown(options=[('Niveau {}'.format(i), i) for i in RushHour.niveaux()])\n",
    "        self.voiture = Dropdown(options=[])\n",
    "        self.modele = Plateau(1)\n",
    "        self.vue = Figure(scale_x=LinearScale(min=0, max=self.modele.dimension),\n",
    "                          scale_y=LinearScale(min=self.modele.dimension, max=0)\n",
    "                         )\n",
    "        self.vue.layout.width=\"75ex\"\n",
    "        self.vue.layout.width=\"75ex\"\n",
    "        self.vue.layout.height=self.vue.layout.width;\n",
    "        self.niveau.observe(lambda widget: self.change_niveau(widget.owner.value))\n",
    "        self.widget = VBox([self.niveau,\n",
    "                            self.vue,\n",
    "                            self.boutton_direction('U'),\n",
    "                            HBox([self.boutton_direction('L'), self.voiture, self.boutton_direction('R')]),\n",
    "                            self.boutton_direction('D')\n",
    "                           ])\n",
    "        self.widget.layout.align_items = 'center'\n",
    "        self.change_niveau(1)\n",
    "\n",
    "    # Call backs\n",
    "    def change_niveau(self, i):\n",
    "        self.modele = Plateau(i)\n",
    "        self.voiture.options = self.modele.voitures.keys()\n",
    "        self.mise_a_jour_vue()\n",
    "        \n",
    "    def on_click_direction(self, boutton):\n",
    "        plateau = self.modele.deplace(self.voiture.value, boutton.description)\n",
    "        if plateau is not None:\n",
    "            self.modele = plateau\n",
    "            self.mise_a_jour_vue()\n",
    "        \n",
    "    def choix_voiture(self, lettre):\n",
    "        self.voiture.value = lettre\n",
    "\n",
    "    def mise_a_jour_vue(self):\n",
    "        marks = []\n",
    "        for lettre,voiture in self.modele.voitures.items():\n",
    "            for (i,j) in voiture.cases():\n",
    "                case = Lines(y=[i,i+1,i+1,i],\n",
    "                             x=[j,j,j+1,j+1],\n",
    "                             scales={'x':self.vue.scale_x,\n",
    "                                     'y':self.vue.scale_y},\n",
    "                             fill='inside',\n",
    "                             colors=[couleurs[lettre]])\n",
    "                case.lettre=lettre\n",
    "                \n",
    "                case.on_element_click(lambda case, _: self.choix_voiture(case.lettre))\n",
    "                marks.append(case)\n",
    "        self.vue.marks = marks\n",
    "\n",
    "    def boutton_direction(self, direction):\n",
    "        boutton = Button(description=direction)\n",
    "        boutton.on_click(self.on_click_direction)\n",
    "        return boutton\n",
    "    \n",
    "    def display(self):\n",
    "        return self.widget\n",
    "\n",
    "Application().display()"
   ]
  },
  {
   "cell_type": "markdown",
   "metadata": {},
   "source": [
    "## Exercice"
   ]
  },
  {
   "cell_type": "markdown",
   "metadata": {},
   "source": [
    "Déterminer une séquence minimale de coup permettant de résoudre le défi 40 de Rush Hour:"
   ]
  },
  {
   "cell_type": "code",
   "execution_count": 18,
   "metadata": {},
   "outputs": [
    {
     "data": {
      "application/vnd.jupyter.widget-view+json": {
       "model_id": "61b6c6280fdc436c888b9d589ab66068",
       "version_major": 2,
       "version_minor": 0
      },
      "text/html": [
       "<p>Failed to display Jupyter Widget of type <code>HBox</code>.</p>\n",
       "<p>\n",
       "  If you're reading this message in the Jupyter Notebook or JupyterLab Notebook, it may mean\n",
       "  that the widgets JavaScript is still loading. If this message persists, it\n",
       "  likely means that the widgets JavaScript library is either not installed or\n",
       "  not enabled. See the <a href=\"https://ipywidgets.readthedocs.io/en/stable/user_install.html\">Jupyter\n",
       "  Widgets Documentation</a> for setup instructions.\n",
       "</p>\n",
       "<p>\n",
       "  If you're reading this message in another frontend (for example, a static\n",
       "  rendering on GitHub or <a href=\"https://nbviewer.jupyter.org/\">NBViewer</a>),\n",
       "  it may mean that your frontend doesn't currently support widgets.\n",
       "</p>\n"
      ],
      "text/plain": [
       "HBox(children=(IntProgress(value=1, bar_style='info', max=1), HTML(value='')))"
      ]
     },
     "metadata": {},
     "output_type": "display_data"
    }
   ],
   "source": [
    "### BEGIN SOLUTION\n",
    "solution = RushHour.solution(40)\n",
    "### END SOLUTION"
   ]
  },
  {
   "cell_type": "code",
   "execution_count": 13,
   "metadata": {},
   "outputs": [
    {
     "data": {
      "text/plain": [
       "True"
      ]
     },
     "execution_count": 13,
     "metadata": {},
     "output_type": "execute_result"
    }
   ],
   "source": [
    "RushHour.est_solution(40, solution)"
   ]
  }
 ],
 "metadata": {
  "kernelspec": {
   "display_name": "Python 3",
   "language": "python",
   "name": "python3"
  },
  "language_info": {
   "codemirror_mode": {
    "name": "ipython",
    "version": 3
   },
   "file_extension": ".py",
   "mimetype": "text/x-python",
   "name": "python",
   "nbconvert_exporter": "python",
   "pygments_lexer": "ipython3",
   "version": "3.6.4"
  }
 },
 "nbformat": 4,
 "nbformat_minor": 2
}

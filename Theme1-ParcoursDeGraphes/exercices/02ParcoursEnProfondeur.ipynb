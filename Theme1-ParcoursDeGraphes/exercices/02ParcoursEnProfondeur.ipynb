{
 "cells": [
  {
   "cell_type": "markdown",
   "metadata": {},
   "source": [
    "# Parcours de graphes: exercices"
   ]
  },
  {
   "cell_type": "markdown",
   "metadata": {},
   "source": [
    "## Bibliothèque de graphes\n",
    "\n",
    "Le fichier [Graph.py](./Graph.py) contient le squelette de la classe Graph que vous avez implanté la séance dernière. Éditez ce squelette pour y insérer le code de chacune des méthode. Ne touchez pas à la documentation qui contient des tests! N'hésitez pas à compléter ces tests. Attention: l'attribut `_vertices` est devenu `_vertex_indices`.\n",
    "\n",
    "Essayez votre classe:"
   ]
  },
  {
   "cell_type": "code",
   "execution_count": 60,
   "metadata": {},
   "outputs": [],
   "source": [
    "%run \"Graph.py\""
   ]
  },
  {
   "cell_type": "code",
   "execution_count": 61,
   "metadata": {},
   "outputs": [
    {
     "data": {
      "text/plain": [
       "((0, 2, 1),\n",
       " (1, 2, 1),\n",
       " (1, 5, 1),\n",
       " (2, 0, 1),\n",
       " (2, 1, 1),\n",
       " (2, 3, 1),\n",
       " (3, 2, 1),\n",
       " (3, 5, 1),\n",
       " (3, 4, 1),\n",
       " (4, 3, 1),\n",
       " (5, 1, 1),\n",
       " (5, 3, 1))"
      ]
     },
     "execution_count": 61,
     "metadata": {},
     "output_type": "execute_result"
    }
   ],
   "source": [
    "G = exemples.cours_1_G()\n",
    "G.edges()"
   ]
  },
  {
   "cell_type": "markdown",
   "metadata": {},
   "source": [
    "Maintenant, lancez tous les tests inclus dans la documentation des fonctions"
   ]
  },
  {
   "cell_type": "code",
   "execution_count": 43,
   "metadata": {},
   "outputs": [
    {
     "name": "stdout",
     "output_type": "stream",
     "text": [
      "........................\n",
      "----------------------------------------------------------------------\n",
      "Ran 24 tests in 0.093s\n",
      "\n",
      "OK\n"
     ]
    }
   ],
   "source": [
    "!nosetests --with-doctest --doctest-options='+NORMALIZE_WHITESPACE' "
   ]
  },
  {
   "cell_type": "markdown",
   "metadata": {},
   "source": [
    "## Parcours"
   ]
  },
  {
   "cell_type": "markdown",
   "metadata": {},
   "source": [
    "Implanter la fonction `Parcours` du cours."
   ]
  },
  {
   "cell_type": "code",
   "execution_count": 53,
   "metadata": {
    "nbgrader": {
     "grade": false,
     "grade_id": "cell-4df2940caaa17a33",
     "locked": false,
     "schema_version": 1,
     "solution": true
    }
   },
   "outputs": [],
   "source": [
    "def parcours(G, u):\n",
    "    \"\"\"\n",
    "    INPUT:\n",
    "    - 'G' - un graphe\n",
    "    - 'u' - un sommet du graphe\n",
    "    \n",
    "    OUTPUT: la liste des sommets `v` de `G` tel qu'il existe un chemin de `u` à `v`\n",
    "    \"\"\"\n",
    "    # Invariants:\n",
    "    #  - `vus`: l'ensemble des sommets déjà rencontrés\n",
    "    #  - `a_faire`: l'ensemble des sommets déjà rencontrés, mais pas encore traités\n",
    "    ### BEGIN SOLUTION\n",
    "    vus = {u}\n",
    "    a_faire = {u}\n",
    "    while a_faire:\n",
    "        v = a_faire.pop()\n",
    "        for w in G.neighbors_out(v):\n",
    "            if w not in vus:\n",
    "                vus.add(w)\n",
    "                a_faire.add(w)\n",
    "    return vus\n",
    "    ### END SOLUTION"
   ]
  },
  {
   "cell_type": "code",
   "execution_count": 54,
   "metadata": {},
   "outputs": [
    {
     "data": {
      "text/plain": [
       "{'A', 'B', 'C', 'D', 'E', 'F', 'G', 'H'}"
      ]
     },
     "execution_count": 54,
     "metadata": {},
     "output_type": "execute_result"
    }
   ],
   "source": [
    "G = exemples.cours_1_reseau()\n",
    "parcours(G, \"A\")"
   ]
  },
  {
   "cell_type": "code",
   "execution_count": 57,
   "metadata": {},
   "outputs": [],
   "source": [
    "assert sorted(parcours(G, \"B\")) == ['A', 'B', 'C', 'D', 'E', 'F', 'G', 'H']"
   ]
  },
  {
   "cell_type": "code",
   "execution_count": 59,
   "metadata": {},
   "outputs": [],
   "source": [
    "G = exemples.cours_1_G()\n",
    "assert sorted(parcours(G, 3)) == [0, 1, 2, 3, 4, 5]"
   ]
  },
  {
   "cell_type": "code",
   "execution_count": 65,
   "metadata": {},
   "outputs": [],
   "source": [
    "G = exemples.disconnected()\n",
    "assert sorted(parcours(G, 1)) == [1, 2, 5]\n",
    "assert sorted(parcours(G, 3)) == [3, 4]"
   ]
  },
  {
   "cell_type": "markdown",
   "metadata": {},
   "source": [
    "## Généralisation\n",
    "Généraliser la fonction parcours pour qu'elle prenne en argument la fonction de voisinage du graphe plutôt que le graphe"
   ]
  },
  {
   "cell_type": "code",
   "execution_count": 68,
   "metadata": {},
   "outputs": [],
   "source": [
    "def parcours_fonction(voisins, u):\n",
    "    \"\"\"\n",
    "    Renvoie la longueur d'un plus court chemin entre `u` et `v` dans un graphe `G`\n",
    "\n",
    "    Entrée:\n",
    "    - `voisins`: une fonction telle que `voisins(u)` renvoie les voisins sortants de `u`\n",
    "    - `u`, `v`: deux sommets d'un graphe\n",
    "    \"\"\""
   ]
  },
  {
   "cell_type": "markdown",
   "metadata": {},
   "source": [
    "Reprenez tous les tests ci-dessus avec votre nouvelle fonction"
   ]
  },
  {
   "cell_type": "markdown",
   "metadata": {},
   "source": [
    "**Indication**: étant donné un graphe `G` tel que implanté précédément, vous pouvez construire la fonction `voisins` requise par `distance` comme suit:"
   ]
  },
  {
   "cell_type": "code",
   "execution_count": 67,
   "metadata": {},
   "outputs": [
    {
     "data": {
      "text/plain": [
       "('B', 'G', 'F')"
      ]
     },
     "execution_count": 67,
     "metadata": {},
     "output_type": "execute_result"
    }
   ],
   "source": [
    "%run \"Graph.py\"\n",
    "G = exemples.cours_1_reseau()\n",
    "voisins = G.neighbors_out\n",
    "voisins(\"A\")"
   ]
  },
  {
   "cell_type": "markdown",
   "metadata": {},
   "source": [
    "## Application: ensemble récursivement énuméré"
   ]
  },
  {
   "cell_type": "markdown",
   "metadata": {},
   "source": [
    "Soit $C_n$ l'ensemble récursivement énuméré défini par:\n",
    "- $R=\\{ (\\underbrace{1,1,\\cdots,1}_n)\\}$\n",
    "- $f$ qui a une liste associe toute les listes obtenues en regroupant et sommant deux entrées consécutives<br>\n",
    "Par exemple, $f((2,3,1,1)) = \\{(5,1,1), (2,4,1), (2,3,2)\\}$"
   ]
  },
  {
   "cell_type": "markdown",
   "metadata": {},
   "source": [
    "- Calculer les quatre éléments de $C_3$\n",
    "- Calculer tous les éléments de $C_5$.\n",
    "- Combien y en a t'il?\n",
    "\n",
    "- Même chose pour $C_1,C_2,C_3,C_4$.\n",
    "- Que conjecturez vous?\n",
    "- Pouvez vous le prouver?"
   ]
  },
  {
   "cell_type": "markdown",
   "metadata": {},
   "source": [
    "## Calcul de distance (sans valuations sur les arêtes)"
   ]
  },
  {
   "cell_type": "markdown",
   "metadata": {},
   "source": [
    "Implanter la fonction suivante:"
   ]
  },
  {
   "cell_type": "code",
   "execution_count": 70,
   "metadata": {},
   "outputs": [],
   "source": [
    "def distances(G, u):\n",
    "    \"\"\"\n",
    "    Renvoie la distance entre `u` et tous les sommets `v` accessibles depuis `u` dans un graphe `G`\n",
    "\n",
    "    Entrée:\n",
    "    - `u`: un sommets d'un graphe\n",
    "    - `voisins`: une fonction telle que `voisins(u)` renvoie les voisins sortants de `u`\n",
    "    \"\"\""
   ]
  },
  {
   "cell_type": "markdown",
   "metadata": {},
   "source": [
    "Utilisez cette fonction pour calculer la distance entre `A` et `J` dans le graphe du cours."
   ]
  }
 ],
 "metadata": {
  "celltoolbar": "Create Assignment",
  "kernelspec": {
   "display_name": "Python 3",
   "language": "python",
   "name": "python3"
  },
  "language_info": {
   "codemirror_mode": {
    "name": "ipython",
    "version": 3
   },
   "file_extension": ".py",
   "mimetype": "text/x-python",
   "name": "python",
   "nbconvert_exporter": "python",
   "pygments_lexer": "ipython3",
   "version": "3.6.8"
  }
 },
 "nbformat": 4,
 "nbformat_minor": 2
}

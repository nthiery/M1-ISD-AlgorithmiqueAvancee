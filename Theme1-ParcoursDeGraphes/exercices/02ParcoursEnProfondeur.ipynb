{
 "cells": [
  {
   "cell_type": "markdown",
   "metadata": {},
   "source": [
    "# Parcours en profondeur: exercices"
   ]
  },
  {
   "cell_type": "markdown",
   "metadata": {},
   "source": [
    "## Calcul de distance (sans valuations sur les arêtes)"
   ]
  },
  {
   "cell_type": "markdown",
   "metadata": {},
   "source": [
    "Implanter la fonction suivante:"
   ]
  },
  {
   "cell_type": "code",
   "execution_count": 1,
   "metadata": {},
   "outputs": [],
   "source": [
    "def distance(s, t, voisins):\n",
    "    \"\"\"\n",
    "    Renvoie la longueur d'un plus court chemin entre `s` et `t` dans un graphe `G`\n",
    "\n",
    "    Entrée:\n",
    "    - `s`, `t`: deux sommets d'un graphe\n",
    "    - `voisins`: une fonction telle que `voisin(e)` renvoie les voisins sortants de `e`\n",
    "    \"\"\""
   ]
  },
  {
   "cell_type": "markdown",
   "metadata": {},
   "source": [
    "Utilisez cette fonction pour calculer le plus court chemin entre `A` et `J` dans le graphe du cours."
   ]
  },
  {
   "cell_type": "markdown",
   "metadata": {},
   "source": [
    "**Indication**: étant donné un graphe `G` et une des fonctions `voisins_sortant_xxx` que vous avez implanté précédemment, vous pouvez construire la fonction `voisin` requise par `distance` comme suit:"
   ]
  },
  {
   "cell_type": "code",
   "execution_count": 2,
   "metadata": {},
   "outputs": [],
   "source": [
    "voisins = lambda e: voisins_sortant_xxx(G, e)"
   ]
  },
  {
   "cell_type": "markdown",
   "metadata": {},
   "source": [
    "## Ensemble récursivement énuméré / composante connexe"
   ]
  },
  {
   "cell_type": "markdown",
   "metadata": {},
   "source": [
    "Soit $C_n$ l'ensemble récursivement énuméré défini par:\n",
    "- $R=\\{ (\\underbrace{1,1,\\cdots,1}_n)\\}$\n",
    "- $f$ qui a une liste associe toute les listes obtenues en regroupant et sommant deux entrées consécutives<br>\n",
    "Par exemple, $f((2,3,1,1)) = \\{(5,1,1), (2,4,1), (2,3,2)\\}$"
   ]
  },
  {
   "cell_type": "markdown",
   "metadata": {},
   "source": [
    "- Calculer tous les éléments de $C_5$.\n",
    "- Combien y en a t'il?\n",
    "\n",
    "- Même chose pour $C_1,C_2,C_3,C_4$.\n",
    "- Que conjecturez vous?\n",
    "- Pouvez vous le prouver?"
   ]
  }
 ],
 "metadata": {
  "kernelspec": {
   "display_name": "Python 3",
   "language": "python",
   "name": "python3"
  },
  "language_info": {
   "codemirror_mode": {
    "name": "ipython",
    "version": 3
   },
   "file_extension": ".py",
   "mimetype": "text/x-python",
   "name": "python",
   "nbconvert_exporter": "python",
   "pygments_lexer": "ipython3",
   "version": "3.6.4"
  }
 },
 "nbformat": 4,
 "nbformat_minor": 2
}

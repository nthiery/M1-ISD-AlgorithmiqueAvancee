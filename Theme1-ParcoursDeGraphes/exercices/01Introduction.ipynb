{
 "cells": [
  {
   "cell_type": "markdown",
   "metadata": {
    "slideshow": {
     "slide_type": "slide"
    }
   },
   "source": [
    "## Introduction: exercices\n",
    "### Structures de données\n",
    "On considère le graphe simple\n",
    "$$G = (\\{0,2,3,4,5,6\\}, \\{\\{0,2\\}, \\{1,2\\}, \\{2,3\\}, \\{1,5\\}, \\{5,3\\}, \\{3,4\\}\\})$$\n",
    "Décrire ce graphe en Python en utilisant plusieurs des structures de données vues précédemment: liste d'arêtes, matrice d'adjacence, dictionnaire des voisins sortants, ..."
   ]
  },
  {
   "cell_type": "code",
   "execution_count": null,
   "metadata": {},
   "outputs": [],
   "source": []
  },
  {
   "cell_type": "markdown",
   "metadata": {},
   "source": [
    "TODO: un graphe orienté valué; typiquement celui qu'on utilisera pour Dijkstra"
   ]
  },
  {
   "cell_type": "markdown",
   "metadata": {
    "slideshow": {
     "slide_type": "slide"
    }
   },
   "source": [
    "### Conversions\n",
    "Écrire des fonctions permettant de convertir entre ces structures de données:\n",
    "- matrice d'adjacence -> liste d'arêtes\n",
    "- liste d'arêtes -> dictionnaire des voisins\n",
    "- dictionnaire des voisins -> matrice\n",
    "\n",
    "Pour chacune des fonctions, préciser la complexité dans la documentation."
   ]
  },
  {
   "cell_type": "code",
   "execution_count": null,
   "metadata": {},
   "outputs": [],
   "source": []
  },
  {
   "cell_type": "markdown",
   "metadata": {
    "slideshow": {
     "slide_type": "slide"
    }
   },
   "source": [
    "### Utilitaires\n",
    "\n",
    "Pour chacune des structures de données, implanter les fonctions suivantes en précisant leur complexités:"
   ]
  },
  {
   "cell_type": "code",
   "execution_count": null,
   "metadata": {},
   "outputs": [],
   "source": [
    "def sommets(G):\n",
    "    \"\"\"Renvoie la liste des sommets de `G`\"\"\""
   ]
  },
  {
   "cell_type": "code",
   "execution_count": null,
   "metadata": {
    "slideshow": {
     "slide_type": "slide"
    }
   },
   "outputs": [],
   "source": [
    "def voisins_sortants(G, i):\n",
    "    \"\"\"Renvoie la liste des voisins sortants  de `i`\"\"\""
   ]
  },
  {
   "cell_type": "code",
   "execution_count": null,
   "metadata": {
    "slideshow": {
     "slide_type": "slide"
    }
   },
   "outputs": [],
   "source": [
    "def voisins_entrants(G, i):\n",
    "    \"\"\"Renvoie la liste des voisins sortants de `i`\"\"\""
   ]
  },
  {
   "cell_type": "code",
   "execution_count": null,
   "metadata": {},
   "outputs": [],
   "source": [
    "def est_voisin_sortant(G, i, j):\n",
    "    \"\"\"Teste si `j` est un voisin sortant de `i` dans `G`\"\"\""
   ]
  },
  {
   "cell_type": "code",
   "execution_count": null,
   "metadata": {},
   "outputs": [],
   "source": [
    "def nombre_sommets(G):\n",
    "    \"\"\"Renvoie le nombre de sommets de `G`\"\"\""
   ]
  },
  {
   "cell_type": "code",
   "execution_count": null,
   "metadata": {},
   "outputs": [],
   "source": [
    "def nombre_arêtes(G):\n",
    "    \"\"\"Renvoie le nombre d'arêtes de `G`\"\"\""
   ]
  }
 ],
 "metadata": {
  "kernelspec": {
   "display_name": "Python 3",
   "language": "python",
   "name": "python3"
  },
  "language_info": {
   "codemirror_mode": {
    "name": "ipython",
    "version": 3
   },
   "file_extension": ".py",
   "mimetype": "text/x-python",
   "name": "python",
   "nbconvert_exporter": "python",
   "pygments_lexer": "ipython3",
   "version": "3.6.4"
  }
 },
 "nbformat": 4,
 "nbformat_minor": 2
}

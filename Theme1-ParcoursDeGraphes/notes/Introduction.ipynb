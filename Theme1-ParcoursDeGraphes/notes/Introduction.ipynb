{
 "cells": [
  {
   "cell_type": "markdown",
   "metadata": {
    "slideshow": {
     "slide_type": "slide"
    }
   },
   "source": [
    "# Algorithmique avancée"
   ]
  },
  {
   "cell_type": "markdown",
   "metadata": {
    "slideshow": {
     "slide_type": "fragment"
    }
   },
   "source": [
    "Enseignants:\n",
    "- Florent Hivert\n",
    "- Viviane Pons\n",
    "- **Nicolas M. Thiéry** (http://Nicolas.Thiery.name)"
   ]
  },
  {
   "cell_type": "markdown",
   "metadata": {
    "slideshow": {
     "slide_type": "slide"
    }
   },
   "source": [
    "## Environnement de programmation\n",
    "\n",
    "- Python\n",
    "- Notebook Jupyter\n",
    "- http://cocalc.com: notes de cours, feuilles d'exercices\n",
    "\n",
    "## Installation de logiciels\n",
    "\n",
    "Vous pouvez travailler entièrement sur cocalc. Vous êtes cependant encouragés à installer les logiciels sur votre machine et travailler en local.\n",
    "\n",
    "Pour la liste des logiciels, voir le contenu du fichier [environment.yml](environment.yml)\n",
    "\n",
    "Le plus simple peut être d'utiliser le gestionnaire de paquets [conda](conda.io):\n",
    "- [Installer miniconda](https://conda.io/docs/user-guide/install/index.html)\n",
    "- Télécharger le fichier [environment.yml](environment.yml), par exemple à la racine de votre dossier pour ce cours\n",
    "- Dans un terminal ouvert sur le même dossier, taper:\n",
    "\n",
    "      conda env create\n",
    "    \n",
    "- Pour lancer Jupyter, taper:\n",
    "\n",
    "      source activate algo-avancee\n",
    "      jupyter notebook\n",
    "\n",
    "- Il peut arriver que la liste des logiciels soit mise à jour. Dans ce cas, depuis le terminal ouvert sur le même dossier, taper:\n",
    "\n",
    "      conda env update\n"
   ]
  },
  {
   "cell_type": "markdown",
   "metadata": {
    "slideshow": {
     "slide_type": "slide"
    }
   },
   "source": [
    "## Séance 1"
   ]
  },
  {
   "cell_type": "markdown",
   "metadata": {
    "slideshow": {
     "slide_type": "slide"
    }
   },
   "source": [
    "## Problème 1: [Rush Hour](http://www.thinkfun.com/products/rush-hour/)\n",
    "\n",
    "<center><img src=\"rush_hour.gif\" width=\"30%\"></center>"
   ]
  },
  {
   "cell_type": "markdown",
   "metadata": {
    "slideshow": {
     "slide_type": "fragment"
    }
   },
   "source": [
    "Challenge: nombre minimal de coups pour le défi 40?"
   ]
  },
  {
   "cell_type": "markdown",
   "metadata": {
    "slideshow": {
     "slide_type": "slide"
    }
   },
   "source": [
    "## Problème 2: Plus court chemin entre le PUIO et le 336?\n",
    "<img src=\"carte.png\" width=\"100%\">"
   ]
  },
  {
   "cell_type": "markdown",
   "metadata": {
    "slideshow": {
     "slide_type": "slide"
    }
   },
   "source": [
    "## Graphes: quelques définitions"
   ]
  },
  {
   "cell_type": "markdown",
   "metadata": {},
   "source": [
    "Informellement: un **graphe** est la donnée d'un ensemble de **sommets** reliés par des **arêtes**.\n",
    "\n",
    "La définition formelle la plus simple est la suivante:\n",
    "\n",
    "Un **graphe** est une paire $G:=(V,A)$ où $V$ est un ensemble et $A$ et un ensemble de paires $\\{v_1,v_2\\}$ d'éléments de $V$.\n",
    "\n",
    "Avec ces définition:\n",
    "- le graphe n'est **pas orienté**: si $s$ est relié à $t$ alors $t$ est relié à $s$\n",
    "- il n'y a pas de **boucle** (arête reliant un sommet à lui-même)\n",
    "- ni d'**arête multiple** (deux arêtes reliant le même sommet)\n",
    "\n",
    "On parle de **graphe simple**"
   ]
  },
  {
   "cell_type": "markdown",
   "metadata": {},
   "source": [
    "Le plus souvent, cette information de base est enrichie d'informations supplémentaires: étiquettes sur les sommets, valuations sur les arêtes, orientation des arêtes, ..."
   ]
  },
  {
   "cell_type": "markdown",
   "metadata": {
    "slideshow": {
     "slide_type": "slide"
    }
   },
   "source": [
    "## Quelques structures de données pour les graphes"
   ]
  },
  {
   "cell_type": "markdown",
   "metadata": {},
   "source": [
    "### Listes des voisins"
   ]
  },
  {
   "cell_type": "code",
   "execution_count": 1,
   "metadata": {},
   "outputs": [],
   "source": [
    "# Avec un dictionnaire\n",
    "G = { 0: [(1, 2), (3, 5), ...    ]         }"
   ]
  },
  {
   "cell_type": "code",
   "execution_count": null,
   "metadata": {},
   "outputs": [],
   "source": [
    "# Avec un tableau (graphe etiquete par 0,1,...)\n",
    "G = [ [(1,2), (3,5)], ....               ]"
   ]
  },
  {
   "cell_type": "markdown",
   "metadata": {},
   "source": [
    "### Liste d'arête"
   ]
  },
  {
   "cell_type": "code",
   "execution_count": null,
   "metadata": {},
   "outputs": [],
   "source": [
    "A = [  (0,1, 3), (0,1, 5),  (1,0,2),  (2,3,5), ....           ]"
   ]
  },
  {
   "cell_type": "markdown",
   "metadata": {
    "slideshow": {
     "slide_type": "slide"
    }
   },
   "source": [
    "### Dictionnaire d'arêtes"
   ]
  },
  {
   "cell_type": "code",
   "execution_count": null,
   "metadata": {},
   "outputs": [],
   "source": [
    "A = { (0,1): 3,\n",
    "      (1,0): 2,\n",
    "       ....\n",
    "    }"
   ]
  },
  {
   "cell_type": "code",
   "execution_count": null,
   "metadata": {},
   "outputs": [],
   "source": [
    "# Avec aretes multiples\n",
    "A = { (0,1): [3,5],\n",
    "      (1,0): 2,\n",
    "       ....\n",
    "    }"
   ]
  },
  {
   "cell_type": "markdown",
   "metadata": {
    "slideshow": {
     "slide_type": "slide"
    }
   },
   "source": [
    "## Notes de Programmation Python\n",
    "### Dictionnaires"
   ]
  },
  {
   "cell_type": "code",
   "execution_count": 2,
   "metadata": {},
   "outputs": [],
   "source": [
    "t = {\"bla\": 1, \"ble\": 3, 3.14: \"pi\"}"
   ]
  },
  {
   "cell_type": "code",
   "execution_count": 5,
   "metadata": {},
   "outputs": [
    {
     "data": {
      "text/plain": [
       "'pi'"
      ]
     },
     "execution_count": 5,
     "metadata": {},
     "output_type": "execute_result"
    }
   ],
   "source": [
    "t[3.14]"
   ]
  },
  {
   "cell_type": "markdown",
   "metadata": {
    "slideshow": {
     "slide_type": "slide"
    }
   },
   "source": [
    "### Compréhensions\n",
    "Exemple:"
   ]
  },
  {
   "cell_type": "code",
   "execution_count": 6,
   "metadata": {},
   "outputs": [
    {
     "data": {
      "text/plain": [
       "[9, 4, 1, 0]"
      ]
     },
     "execution_count": 6,
     "metadata": {},
     "output_type": "execute_result"
    }
   ],
   "source": [
    "l = [3,2,1,0]\n",
    "[ i**2    for i in l ]"
   ]
  },
  {
   "cell_type": "markdown",
   "metadata": {},
   "source": [
    "Tutoriel: http://doc.sagemath.org/html/en/thematic_tutorials/tutorial-comprehensions.html"
   ]
  }
 ],
 "metadata": {
  "celltoolbar": "Slideshow",
  "kernelspec": {
   "display_name": "Python 3",
   "language": "python",
   "name": "python3"
  },
  "language_info": {
   "codemirror_mode": {
    "name": "ipython",
    "version": 3
   },
   "file_extension": ".py",
   "mimetype": "text/x-python",
   "name": "python",
   "nbconvert_exporter": "python",
   "pygments_lexer": "ipython3",
   "version": "3.6.4"
  },
  "livereveal": {
   "auto_select": "first",
   "autolaunch": false,
   "scroll": "true",
   "start_slideshow_at": "selected",
   "transition": "none"
  }
 },
 "nbformat": 4,
 "nbformat_minor": 2
}

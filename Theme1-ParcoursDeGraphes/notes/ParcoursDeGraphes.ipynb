{
 "cells": [
  {
   "cell_type": "markdown",
   "metadata": {},
   "source": [
    "# Cours 2: Parcours de graphes"
   ]
  },
  {
   "cell_type": "markdown",
   "metadata": {},
   "source": [
    "## Parcours en largeur\n",
    "https://fr.wikipedia.org/wiki/Algorithme_de_parcours_en_largeur\n",
    "\n",
    "TODO:\n",
    "- un graphe plus intéressant pour un parcours en largeur\n",
    "- formaliser l'invariant\n",
    "- RISE\n",
    "- ...\n",
    "\n",
    "### Exemple de graphe\n",
    "<!-- By HB (Own work) [GFDL (http://www.gnu.org/copyleft/fdl.html) or CC BY-SA 3.0 (https://creativecommons.org/licenses/by-sa/3.0)], via Wikimedia Commons !-->\n",
    "<img src=\"DijkstraBis01.svg\">"
   ]
  },
  {
   "cell_type": "code",
   "execution_count": 2,
   "metadata": {},
   "outputs": [],
   "source": [
    "G = [ (0,1,87), (0,2,217), (0,4,173),\n",
    "      (1,5,80),\n",
    "      (2,6,186), (2,7,103),\n",
    "      (3,7,183),\n",
    "      (4,9,502),\n",
    "      (5,8,250),\n",
    "      (7,9,167),\n",
    "      (8,9,84) ]"
   ]
  },
  {
   "cell_type": "code",
   "execution_count": 9,
   "metadata": {},
   "outputs": [
    {
     "name": "stderr",
     "output_type": "stream",
     "text": [
      "/opt/miniconda3/envs/test-widgets/lib/python3.6/site-packages/bqplot/traits.py:137: FutureWarning: Conversion of the second argument of issubdtype from `float` to `np.floating` is deprecated. In future, it will be treated as `np.float64 == np.dtype(float).type`.\n",
      "  if np.issubdtype(a.dtype, np.float):\n"
     ]
    },
    {
     "data": {
      "application/vnd.jupyter.widget-view+json": {
       "model_id": "8d99e0f960a74680ab72f260efa1d547",
       "version_major": 2,
       "version_minor": 0
      },
      "text/html": [
       "<p>Failed to display Jupyter Widget of type <code>Figure</code>.</p>\n",
       "<p>\n",
       "  If you're reading this message in the Jupyter Notebook or JupyterLab Notebook, it may mean\n",
       "  that the widgets JavaScript is still loading. If this message persists, it\n",
       "  likely means that the widgets JavaScript library is either not installed or\n",
       "  not enabled. See the <a href=\"https://ipywidgets.readthedocs.io/en/stable/user_install.html\">Jupyter\n",
       "  Widgets Documentation</a> for setup instructions.\n",
       "</p>\n",
       "<p>\n",
       "  If you're reading this message in another frontend (for example, a static\n",
       "  rendering on GitHub or <a href=\"https://nbviewer.jupyter.org/\">NBViewer</a>),\n",
       "  it may mean that your frontend doesn't currently support widgets.\n",
       "</p>\n"
      ],
      "text/plain": [
       "Figure(fig_margin={'top': 60, 'bottom': 60, 'left': 60, 'right': 60}, layout=Layout(height='600px', width='600px'), marks=[Graph(colors=['#1f77b4', '#ff7f0e', '#2ca02c', '#d62728', '#9467bd', '#8c564b', '#e377c2', '#7f7f7f', '#bcbd22', '#17becf'], directed=False, interactions={'hover': 'tooltip', 'click': 'select'}, link_data=[{'source': 0, 'target': 1, 'value': 87}, {'source': 0, 'target': 2, 'value': 217}, {'source': 0, 'target': 4, 'value': 173}, {'source': 1, 'target': 5, 'value': 80}, {'source': 2, 'target': 6, 'value': 186}, {'source': 2, 'target': 7, 'value': 103}, {'source': 3, 'target': 7, 'value': 183}, {'source': 4, 'target': 9, 'value': 502}, {'source': 5, 'target': 8, 'value': 250}, {'source': 7, 'target': 9, 'value': 167}, {'source': 8, 'target': 9, 'value': 84}], link_type='line', node_data=['A$x^2$AA', 'B', 'C', 'D', 'E', 'F', 'G', 'H', 'I', 'J'], scales_metadata={'x': {'orientation': 'horizontal', 'dimension': 'x'}, 'y': {'orientation': 'vertical', 'dimension': 'y'}, 'color': {'dimension': 'color'}, 'link_color': {'dimension': 'link_color'}}, tooltip_style={'opacity': 0.9})], scale_x=LinearScale(allow_padding=False, max=1.0, min=0.0), scale_y=LinearScale(allow_padding=False, max=1.0, min=0.0))"
      ]
     },
     "metadata": {},
     "output_type": "display_data"
    }
   ],
   "source": [
    "import numpy as np\n",
    "from bqplot import *\n",
    "from bqplot.marks import Graph\n",
    "from ipywidgets import Layout\n",
    "\n",
    "fig_layout = Layout(width='600px', height='600px')\n",
    "graph = Graph(node_data=['A$x^2$AA','B','C','D','E','F','G','H','I','J'], link_data=[{'source':i,'target':j,'value':v} for i,j,v in G],\n",
    "              link_type='line', directed=False)\n",
    "Figure(marks=[graph], layout=fig_layout)"
   ]
  },
  {
   "cell_type": "markdown",
   "metadata": {},
   "source": [
    "## Applications\n",
    "\n",
    "### Composantes connexes\n",
    "Soit $G$ un graphe non orienté. La composante connexe d'un sommet $s$ de $G$ est l'ensemble des sommets atteignables depuis $s$ en suivant un chemin dans $G$."
   ]
  },
  {
   "cell_type": "markdown",
   "metadata": {},
   "source": [
    "### Ensembles définis récursivement \n",
    "Définition: soit $E$ un ensemble, $R\\subset E$ un sous ensemble fini, et $f$ une fonction associant à chaque élément de $E$ un sous-ensemble fini de $E$. L'ensemble défini récursivement par $R$ et $f$ est le plus petit sous-ensemble de $E$ contenant $R$ et stable par $f$.\n",
    "\n",
    "Exemple:\n",
    "\n",
    "- $E=\\mathbb N$, $R=\\{1\\}$, $f(e) = \\{ 2e, e+3 \\}$\n",
    "- Permutations, graphe du permutohèdre\n",
    "- ..."
   ]
  },
  {
   "cell_type": "markdown",
   "metadata": {},
   "source": [
    "## Plus court chemin, avec poids: Algorithme de Dijkstra\n",
    "https://fr.wikipedia.org/wiki/Algorithme_de_Dijkstra"
   ]
  },
  {
   "cell_type": "code",
   "execution_count": 25,
   "metadata": {},
   "outputs": [],
   "source": [
    "G = [ (0,1,87), (0,2,217), (0,4,173),\n",
    "      (1,5,80),\n",
    "      (2,6,186), (2,7,103),\n",
    "      (3,7,183),\n",
    "      (4,9,502),\n",
    "      (5,8,250),\n",
    "      (7,9,167),\n",
    "      (8,9,84) ]"
   ]
  },
  {
   "cell_type": "code",
   "execution_count": 8,
   "metadata": {},
   "outputs": [
    {
     "name": "stderr",
     "output_type": "stream",
     "text": [
      "/opt/miniconda3/envs/test-widgets/lib/python3.6/site-packages/bqplot/traits.py:137: FutureWarning: Conversion of the second argument of issubdtype from `float` to `np.floating` is deprecated. In future, it will be treated as `np.float64 == np.dtype(float).type`.\n",
      "  if np.issubdtype(a.dtype, np.float):\n"
     ]
    },
    {
     "data": {
      "application/vnd.jupyter.widget-view+json": {
       "model_id": "1995d528324441d48af67de5bb6648a7",
       "version_major": 2,
       "version_minor": 0
      },
      "text/html": [
       "<p>Failed to display Jupyter Widget of type <code>Figure</code>.</p>\n",
       "<p>\n",
       "  If you're reading this message in the Jupyter Notebook or JupyterLab Notebook, it may mean\n",
       "  that the widgets JavaScript is still loading. If this message persists, it\n",
       "  likely means that the widgets JavaScript library is either not installed or\n",
       "  not enabled. See the <a href=\"https://ipywidgets.readthedocs.io/en/stable/user_install.html\">Jupyter\n",
       "  Widgets Documentation</a> for setup instructions.\n",
       "</p>\n",
       "<p>\n",
       "  If you're reading this message in another frontend (for example, a static\n",
       "  rendering on GitHub or <a href=\"https://nbviewer.jupyter.org/\">NBViewer</a>),\n",
       "  it may mean that your frontend doesn't currently support widgets.\n",
       "</p>\n"
      ],
      "text/plain": [
       "Figure(fig_margin={'top': 60, 'bottom': 60, 'left': 60, 'right': 60}, layout=Layout(height='600px', width='600px'), marks=[Graph(colors=['#1f77b4', '#ff7f0e', '#2ca02c', '#d62728', '#9467bd', '#8c564b', '#e377c2', '#7f7f7f', '#bcbd22', '#17becf'], directed=False, interactions={'hover': 'tooltip', 'click': 'select'}, link_data=[{'source': 0, 'target': 1, 'value': 87}, {'source': 0, 'target': 2, 'value': 217}, {'source': 0, 'target': 4, 'value': 173}, {'source': 1, 'target': 5, 'value': 80}, {'source': 2, 'target': 6, 'value': 186}, {'source': 2, 'target': 7, 'value': 103}, {'source': 3, 'target': 7, 'value': 183}, {'source': 4, 'target': 9, 'value': 502}, {'source': 5, 'target': 8, 'value': 250}, {'source': 7, 'target': 9, 'value': 167}, {'source': 8, 'target': 9, 'value': 84}], link_type='line', node_data=['A', 'B', 'C', 'D', 'E', 'F', 'G', 'H', 'I', 'J'], scales_metadata={'x': {'orientation': 'horizontal', 'dimension': 'x'}, 'y': {'orientation': 'vertical', 'dimension': 'y'}, 'color': {'dimension': 'color'}, 'link_color': {'dimension': 'link_color'}}, tooltip_style={'opacity': 0.9})], scale_x=LinearScale(allow_padding=False, max=1.0, min=0.0), scale_y=LinearScale(allow_padding=False, max=1.0, min=0.0))"
      ]
     },
     "metadata": {},
     "output_type": "display_data"
    }
   ],
   "source": [
    "import numpy as np\n",
    "from bqplot import *\n",
    "from bqplot.marks import Graph\n",
    "from ipywidgets import Layout\n",
    "\n",
    "fig_layout = Layout(width='600px', height='600px')\n",
    "graph = Graph(node_data=list(\"ABCDEFGHIJ\"), link_data=[{'source':i,'target':j,'value':v} for i,j,v in G],\n",
    "              link_type='line', directed=False)\n",
    "Figure(marks=[graph], layout=fig_layout)"
   ]
  },
  {
   "cell_type": "code",
   "execution_count": null,
   "metadata": {},
   "outputs": [],
   "source": []
  }
 ],
 "metadata": {
  "kernelspec": {
   "display_name": "Python 3",
   "language": "python",
   "name": "python3"
  },
  "language_info": {
   "codemirror_mode": {
    "name": "ipython",
    "version": 3
   },
   "file_extension": ".py",
   "mimetype": "text/x-python",
   "name": "python",
   "nbconvert_exporter": "python",
   "pygments_lexer": "ipython3",
   "version": "3.6.4"
  }
 },
 "nbformat": 4,
 "nbformat_minor": 2
}

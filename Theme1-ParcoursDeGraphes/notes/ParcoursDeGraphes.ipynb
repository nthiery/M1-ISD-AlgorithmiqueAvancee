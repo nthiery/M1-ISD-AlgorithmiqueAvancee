{
 "cells": [
  {
   "cell_type": "markdown",
   "metadata": {
    "slideshow": {
     "slide_type": "slide"
    }
   },
   "source": [
    "# Cours 2: Parcours de graphes"
   ]
  },
  {
   "cell_type": "markdown",
   "metadata": {
    "slideshow": {
     "slide_type": "fragment"
    }
   },
   "source": [
    "## Définitions\n",
    "- un *chemin* est une suite de sommets `(v_0, v_1, v_2, ...)` tel qu'il existe une arête entre chaque paire de sommets `v_i` et `v_{i+1}`"
   ]
  },
  {
   "cell_type": "markdown",
   "metadata": {
    "slideshow": {
     "slide_type": "fragment"
    }
   },
   "source": [
    "- la *distance* entre deux sommets `u` et `v` est la longueur du plus court chemin entre `u` et `v` (ou la somme des poids des arêtes)."
   ]
  },
  {
   "cell_type": "markdown",
   "metadata": {
    "slideshow": {
     "slide_type": "fragment"
    }
   },
   "source": [
    "- Soit $G$ un graphe non orienté. La composante connexe d'un sommet $u$ de $G$ est l'ensemble des sommets atteignables depuis $u$ en suivant un chemin dans $G$."
   ]
  },
  {
   "cell_type": "markdown",
   "metadata": {
    "slideshow": {
     "slide_type": "subslide"
    }
   },
   "source": [
    "### Exemple de graphe\n",
    "<center><img src=\"../exercices/graphe.jpeg\" width=\"50%\"></center>"
   ]
  },
  {
   "cell_type": "code",
   "execution_count": null,
   "metadata": {
    "slideshow": {
     "slide_type": "skip"
    }
   },
   "outputs": [],
   "source": [
    "%run ../exercices/Graph.py\n",
    "G = exemples.cours_1_reseau()\n",
    "G.show()"
   ]
  },
  {
   "cell_type": "markdown",
   "metadata": {
    "slideshow": {
     "slide_type": "slide"
    }
   },
   "source": [
    "### Parcours de graphe"
   ]
  },
  {
   "cell_type": "code",
   "execution_count": null,
   "metadata": {
    "slideshow": {
     "slide_type": "fragment"
    }
   },
   "outputs": [],
   "source": [
    "def parcours(G, u):\n",
    "    \"\"\"\n",
    "    INPUT:\n",
    "    - 'G' - un graphe\n",
    "    - 'u' - un sommet du graphe\n",
    "    \n",
    "    OUTPUT: la liste des sommets `v` de `G` tel qu'il existe un chemin de `u` à `v`\n",
    "    \"\"\"\n",
    "    # Invariants:\n",
    "    #  - `vus`: l'ensemble des sommets déjà rencontrés\n",
    "    #  - `a_faire`: l'ensemble des sommets déjà rencontrés, mais pas encore traités"
   ]
  },
  {
   "cell_type": "markdown",
   "metadata": {
    "slideshow": {
     "slide_type": "subslide"
    }
   },
   "source": [
    "### Ensembles définis récursivement \n",
    "Définition: soit $E$ un ensemble, $R\\subset E$ un sous ensemble fini, et $f$ une fonction associant à chaque élément de $E$ un sous-ensemble fini de $E$. L'ensemble défini récursivement par $R$ et $f$ est le plus petit sous-ensemble de $E$ contenant $R$ et stable par $f$.\n",
    "\n",
    "Exemples:\n",
    "\n",
    "- $E=\\mathbb N$, $R=\\{1\\}$, $f(e) = \\{ e + 2 \\}$\n",
    "- $E=\\mathbb N$, $R=\\{1\\}$, $f(e) = \\{ 2e, e+3 \\}$\n",
    "- $E$: listes, $R=\\{()\\}$, $f(u)$: rajouter $0$ ou $1$ à la fin du $u$\n",
    "- $E$: listes, $R=\\{(1,2,3,2,1)\\}$, $f(u)$: supprimer la première ou dernière lettre de $u$\n",
    "- Permutations, ...\n",
    "- ..."
   ]
  },
  {
   "cell_type": "markdown",
   "metadata": {
    "slideshow": {
     "slide_type": "slide"
    }
   },
   "source": [
    "## [Parcours en largeur](https://fr.wikipedia.org/wiki/Algorithme_de_parcours_en_largeur) et calcul de distance"
   ]
  },
  {
   "cell_type": "markdown",
   "metadata": {
    "slideshow": {
     "slide_type": "fragment"
    }
   },
   "source": [
    "**Objectif**: Calculer la distance entre deux sommets?"
   ]
  },
  {
   "cell_type": "markdown",
   "metadata": {
    "slideshow": {
     "slide_type": "fragment"
    }
   },
   "source": [
    "**Approche**: raffiner l'algorithme pour parcourir les sommets par distance croissante"
   ]
  },
  {
   "cell_type": "code",
   "execution_count": null,
   "metadata": {
    "slideshow": {
     "slide_type": "fragment"
    }
   },
   "outputs": [],
   "source": [
    "def parcours(G, u):\n",
    "    \"\"\"\n",
    "    INPUT:\n",
    "    - 'G' - un graphe\n",
    "    - 'u' - un sommet du graphe\n",
    "    \n",
    "    OUTPUT: un dictionnaire associant à chaque sommet `v` sa distance depuis `u`\n",
    "    \"\"\"\n",
    "    # Invariants:\n",
    "    #  - `distances`: un dictionnaire associant à chaque sommet vu sa distance `d_v` depuis `v`\n",
    "    #  - `a_faire`: la liste des sommets déjà rencontrés, mais pas encore traités\n",
    "    #  - `d_v` est croissante sur `a_faire`, variant d'au plus `1`\n",
    "    #  - `d_w <= d_v` pour `w` traité et `v` dans `a_faire`"
   ]
  },
  {
   "cell_type": "markdown",
   "metadata": {
    "slideshow": {
     "slide_type": "subslide"
    }
   },
   "source": [
    "## Parcours en profondeur\n",
    "Que se passe-t'il si on utilise une pile pour `a_faire`?\n",
    "Essayer sur an arbre"
   ]
  },
  {
   "cell_type": "markdown",
   "metadata": {
    "slideshow": {
     "slide_type": "slide"
    }
   },
   "source": [
    "## Plus court chemin, avec poids: Algorithme de Dijkstra\n",
    "https://fr.wikipedia.org/wiki/Algorithme_de_Dijkstra\n",
    "<!-- By HB (Own work) [GFDL (http://www.gnu.org/copyleft/fdl.html) or CC BY-SA 3.0 (https://creativecommons.org/licenses/by-sa/3.0)], via Wikimedia Commons !-->\n",
    "<img src=\"DijkstraBis01.svg\">"
   ]
  },
  {
   "cell_type": "code",
   "execution_count": null,
   "metadata": {
    "slideshow": {
     "slide_type": "skip"
    }
   },
   "outputs": [],
   "source": [
    "G = [ (0,1,87), (0,2,217), (0,4,173),\n",
    "      (1,5,80),\n",
    "      (2,6,186), (2,7,103),\n",
    "      (3,7,183),\n",
    "      (4,9,502),\n",
    "      (5,8,250),\n",
    "      (7,9,167),\n",
    "      (8,9,84) ]"
   ]
  }
 ],
 "metadata": {
  "celltoolbar": "Slideshow",
  "kernelspec": {
   "display_name": "Python 3",
   "language": "python",
   "name": "python3"
  },
  "language_info": {
   "codemirror_mode": {
    "name": "ipython",
    "version": 3
   },
   "file_extension": ".py",
   "mimetype": "text/x-python",
   "name": "python",
   "nbconvert_exporter": "python",
   "pygments_lexer": "ipython3",
   "version": "3.6.4"
  }
 },
 "nbformat": 4,
 "nbformat_minor": 2
}

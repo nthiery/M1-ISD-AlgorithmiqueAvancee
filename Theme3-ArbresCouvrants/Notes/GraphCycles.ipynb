{
 "cells": [
  {
   "cell_type": "markdown",
   "metadata": {
    "slideshow": {
     "slide_type": "slide"
    }
   },
   "source": [
    "# Les cycles d'un graphe"
   ]
  },
  {
   "cell_type": "markdown",
   "metadata": {
    "slideshow": {
     "slide_type": "slide"
    }
   },
   "source": [
    "## Motivation : routage dans un réseau\n",
    "\n",
    "https://en.wikipedia.org/wiki/Spanning_Tree_Protocol\n",
    "\n",
    "\n",
    "**\"broadcast\"** : un noeud quelconque du réseau émet une information qui doit être **retransmise** à tous les noeuds du réseau"
   ]
  },
  {
   "cell_type": "markdown",
   "metadata": {
    "slideshow": {
     "slide_type": "fragment"
    }
   },
   "source": [
    "- N'est possible que si le graphe est connexe !"
   ]
  },
  {
   "cell_type": "markdown",
   "metadata": {
    "slideshow": {
     "slide_type": "slide"
    }
   },
   "source": [
    "Proposition d'algorithme : \n",
    "\n",
    "- Chaque noeud qui reçoit l'information la retransmet à ses voisin sauf à celui duquel il l'a reçu"
   ]
  },
  {
   "cell_type": "markdown",
   "metadata": {
    "slideshow": {
     "slide_type": "fragment"
    }
   },
   "source": [
    "- **Problème** : Si il y a un cycle, l'information va tourner indéfiniment le long du cycle (\"**broadcast storm**\")"
   ]
  },
  {
   "cell_type": "markdown",
   "metadata": {
    "slideshow": {
     "slide_type": "slide"
    }
   },
   "source": [
    "**Définition** : Un *cycle* d'un graphe $G = (V, E)$ est une liste $C = (c_0, \\dots, c_{k-1})$ de sommets telle que\n",
    "- les $c_i$ sont distincts (on interdit en particulier les allez-retours)\n",
    "- pour tout $i$ entier, $(c_i, c_{i+1})$ est une arrête de $G$ où $i$ est compris modulo $k$ (c'est-à-dire que $(c_{k-1}, c_0)$ est aussi une arête)"
   ]
  },
  {
   "attachments": {
    "arb-001.jpg": {
     "image/jpeg": "[encoded data removed]"
    }
   },
   "cell_type": "markdown",
   "metadata": {
    "slideshow": {
     "slide_type": "subslide"
    }
   },
   "source": [
    "![arb-001.jpg](attachment:arb-001.jpg)"
   ]
  },
  {
   "cell_type": "markdown",
   "metadata": {
    "slideshow": {
     "slide_type": "fragment"
    }
   },
   "source": [
    "Exemple de cycles $(1, 2, 13)$ et $(4, 7, 12, 2, 1)$"
   ]
  },
  {
   "cell_type": "markdown",
   "metadata": {
    "slideshow": {
     "slide_type": "slide"
    }
   },
   "source": [
    "## Problème de la recherche de cycles dans un graphe\n",
    "\n",
    "Deux questions étant donné un graphe $G$:\n",
    "- $G$ a-t-il un cycle ?  Méthode `is_acyclic(G)`\n",
    "\n",
    "- touver un cycle de $G$: Méthode `find_cycle(G)`"
   ]
  },
  {
   "cell_type": "markdown",
   "metadata": {
    "slideshow": {
     "slide_type": "fragment"
    }
   },
   "source": [
    "Note: il n'est pas forcément nécessaire de trouver un cycle pour savoir qu'un graphe est acyclique."
   ]
  },
  {
   "cell_type": "markdown",
   "metadata": {
    "slideshow": {
     "slide_type": "slide"
    }
   },
   "source": [
    "### Nombre d'arcs dans un graphe et cycles\n",
    "\n",
    "Soit $G = (V;E)$ un graphe. Alors:\n",
    "- Si $G$ est connexe, alors $|E| \\geq |V| - 1$.\n",
    "- Si $G$ est sans cycle, alors $|E|\\leq |V| - 1$."
   ]
  },
  {
   "cell_type": "markdown",
   "metadata": {
    "slideshow": {
     "slide_type": "subslide"
    }
   },
   "source": [
    "- Si $G$ est connexe, alors $|E| \\geq |V| - 1$ : il faut au moins une arête pour ateindre chaque noeud.\n",
    "- Si $G$ est sans cycle, alors $|E| \\leq |V| - 1$ : ajouter une arête crée un cycle. "
   ]
  },
  {
   "cell_type": "markdown",
   "metadata": {
    "slideshow": {
     "slide_type": "fragment"
    }
   },
   "source": [
    "Un graphe $G=(V;E)$ est **sans cycle** si et seulement si $$|V| = k + |E|$$ où\n",
    "$k$ est le nombre de composantes connexes."
   ]
  },
  {
   "cell_type": "markdown",
   "metadata": {
    "slideshow": {
     "slide_type": "subslide"
    }
   },
   "source": [
    "- Algorithme `is_acyclic(G)` : on fait un parcours de graphe pour compter les composantes connexes\n"
   ]
  },
  {
   "cell_type": "markdown",
   "metadata": {
    "slideshow": {
     "slide_type": "fragment"
    }
   },
   "source": [
    "- Algorithme `find_cycle(G)` : on fait un parcours de graphe en partant d'un noeud et en notant pour chaque noeuds traversés comment on l'a atteint. Si l'on atteint deux fois un noeuds, on a trouvé un cycle."
   ]
  },
  {
   "cell_type": "markdown",
   "metadata": {
    "slideshow": {
     "slide_type": "slide"
    }
   },
   "source": [
    "## Notion d'arbre\n",
    "\n",
    "**Définition** : Un *arbre* est un graphe **connexe** et **sans cycle** (on dit aussi **acyclique**)"
   ]
  },
  {
   "cell_type": "markdown",
   "metadata": {
    "slideshow": {
     "slide_type": "fragment"
    }
   },
   "source": [
    "Dans un arbre, on a pas de problème pour le routage:\n",
    "\n",
    "**Proposition** : $G$ est un arbre si et seulement si, pour tout couple de sommets $s$ et $t$, il existe un **unique chemin simple** (qui ne repasse jamais deux fois par le même sommet) de $s$ à $t$."
   ]
  },
  {
   "cell_type": "markdown",
   "metadata": {
    "slideshow": {
     "slide_type": "subslide"
    }
   },
   "source": [
    "**Proposition (Caractérisations d'un Arbre)** :\n",
    "Pour un graphe $T$ à $n$ sommets, il y a équivalence entre les propriétés :\n",
    "\n",
    "1. $T$ est un arbre\n",
    "2. $T$ est un graphe connexe à $n-1$ arêtes\n",
    "3. $T$ est connexe, et la suppression de toute arête le déconnecte\n",
    "4. $T$ est acyclique à $n-1$ arêtes\n",
    "\n",
    "Note: $T$ est acyclique et l'ajout de toute arête le rend cyclique.\n"
   ]
  },
  {
   "cell_type": "markdown",
   "metadata": {
    "slideshow": {
     "slide_type": "slide"
    }
   },
   "source": [
    "## Notion d'arbre couvrant\n",
    "\n",
    "**Définition** Étant donné un graphe $G=(V;E)$, on appelle **arbre couvrant** de $G$ un graphe $T=(V;F)$ tel que\n",
    "- $T$ est un arbre\n",
    "- $T$ est un graphe partiel de $G$ (Même sommets et $F\\subset E$).\n",
    "\n",
    "Intuitivement: $T$ est construit avec les arêtes $U$ de $G$ en connectant (\"couvre\") tous les sommets de $V$. \n"
   ]
  },
  {
   "cell_type": "markdown",
   "metadata": {
    "slideshow": {
     "slide_type": "subslide"
    }
   },
   "source": [
    "<img src=\"../media/4x4_grid_spanning_tree.svg\" width=\"400\" height=\"400\" />"
   ]
  },
  {
   "cell_type": "markdown",
   "metadata": {
    "slideshow": {
     "slide_type": "subslide"
    }
   },
   "source": [
    "<img src=\"../media/Minimum_spanning_tree.svg\" width=\"600\" height=\"600\" />"
   ]
  },
  {
   "cell_type": "markdown",
   "metadata": {
    "slideshow": {
     "slide_type": "subslide"
    }
   },
   "source": [
    "**Proposition** Un graphe $G=(V;E)$ admet un *arbre couvrant* si et seulement si il est *connexe*"
   ]
  },
  {
   "cell_type": "markdown",
   "metadata": {
    "slideshow": {
     "slide_type": "fragment"
    }
   },
   "source": [
    "Le problème de l'**arbre couvrant de poids minimum** consiste à trouver un arbre couvrant\n",
    "dont la somme des poids $c(e)$ des arêtes est minimum.\n"
   ]
  },
  {
   "cell_type": "markdown",
   "metadata": {
    "slideshow": {
     "slide_type": "subslide"
    }
   },
   "source": [
    "#### Ne pas confondre:\n",
    "- arbre couvrant de poids minimum (MST, Minimum Spanning Tree) : minimise la somme\n",
    "des poids des arêtes\n",
    " \n",
    "- arbre des plus courts chemins (SPT, Shortest Paths Tree) construit par exemple\n",
    "par BFS (Breadth First Search) ou Dijsktra : minimise la distance de la racine à chaque sommet\n"
   ]
  },
  {
   "cell_type": "markdown",
   "metadata": {
    "slideshow": {
     "slide_type": "slide"
    }
   },
   "source": [
    "<div style=\"text-align: center\">\n",
    "<img style=\"float : left; height : 300px\" src=\"../media/tree-022.jpg\"><img style=\"float: left; height : 300px\" src=\"../media/tree-023.jpg\">\n",
    "</div>"
   ]
  },
  {
   "cell_type": "markdown",
   "metadata": {
    "slideshow": {
     "slide_type": "slide"
    }
   },
   "source": [
    "**Idée** : On part du graphe $T=(V, \\emptyset)$ et on ajoute tour à tour la nouvelle arête de plus petit poids qui ne crée pas de cycles (i.e. qui connecte deux composantes connexes différentes).\n",
    "\n",
    "**Invariant** : À l'étape $i$, le graphe $T$ est acyclique avec $i$ arêtes de poids minimal\n",
    "\n",
    "- [Algorithme de Kruskal](https://fr.wikipedia.org/wiki/Algorithme_de_Kruskal)\n",
    "- [Union Find](https://fr.wikipedia.org/wiki/Union-find)"
   ]
  },
  {
   "cell_type": "markdown",
   "metadata": {
    "slideshow": {
     "slide_type": "slide"
    }
   },
   "source": [
    "**Idée** : On choisi un noeuds $n$ part du graphe $T=(\\{n\\}, \\emptyset)$ et on ajoute tour à tour un nouveau noeud en le connectant autre en choisissant l'arête de poids minimum parmis.\n",
    "\n",
    "**Invariant** : Le graphe $T=(U,F)$ est toujours l'arbre convrant de poids minimal sur $U\\subset V$.\n",
    "\n",
    "- [Algoritme de Prim](https://fr.wikipedia.org/wiki/Algorithme_de_Prim)\n",
    "- [File de priorité](https://fr.wikipedia.org/wiki/File_de_priorit%C3%A9)"
   ]
  },
  {
   "cell_type": "code",
   "execution_count": null,
   "metadata": {},
   "outputs": [],
   "source": []
  }
 ],
 "metadata": {
  "celltoolbar": "Slideshow",
  "kernelspec": {
   "display_name": "Python 3",
   "language": "python",
   "name": "python3"
  },
  "language_info": {
   "codemirror_mode": {
    "name": "ipython",
    "version": 3
   },
   "file_extension": ".py",
   "mimetype": "text/x-python",
   "name": "python",
   "nbconvert_exporter": "python",
   "pygments_lexer": "ipython3",
   "version": "3.6.4"
  },
  "livereveal": {
   "scroll": true,
   "transition": "none"
  }
 },
 "nbformat": 4,
 "nbformat_minor": 2
}
